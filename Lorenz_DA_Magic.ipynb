{
  "nbformat": 4,
  "nbformat_minor": 0,
  "metadata": {
    "colab": {
      "provenance": [],
      "collapsed_sections": [
        "BbCnpun9zGJE",
        "emSJfHDZFkll",
        "mIYDfN2UA5Xh",
        "OZ33hAOVBD-F",
        "bGlX8KlFBn1k",
        "CK6XUeR2Bwqk",
        "Iniw4SxLB4pl",
        "HFX7s8z-CBRG",
        "e1lUNJMbCG87",
        "Ixn-ri7YDJ1j",
        "Me3ZlKoRDjiT",
        "HKutT7p1ESh8",
        "X2bPqh7MEh2c",
        "apQJBpVywEew",
        "-uKbAaNWwlKQ",
        "m1-TAPgJ7INl",
        "YHKwdGUn7qb-",
        "8uGTh48s7aVz",
        "iEyiPjj7eK9u"
      ],
      "include_colab_link": true
    },
    "kernelspec": {
      "name": "python3",
      "display_name": "Python 3"
    },
    "language_info": {
      "name": "python"
    }
  },
  "cells": [
    {
      "cell_type": "markdown",
      "metadata": {
        "id": "view-in-github",
        "colab_type": "text"
      },
      "source": [
        "<a href=\"https://colab.research.google.com/github/Karliene-Evelyn/G-Assimila/blob/main/Lorenz_DA_Magic.ipynb\" target=\"_parent\"><img src=\"https://colab.research.google.com/assets/colab-badge.svg\" alt=\"Open In Colab\"/></a>"
      ]
    },
    {
      "cell_type": "markdown",
      "source": [
        "# Program to perform data assimilation on the Lorenz equations\n",
        "###  (c) 2002  Data Assimilation Research Centre\n",
        "### Original program by Matthew Martin"
      ],
      "metadata": {
        "id": "BbCnpun9zGJE"
      }
    },
    {
      "cell_type": "markdown",
      "source": [
        "# **Instala o Octave e o plugin para jupyter notebook**"
      ],
      "metadata": {
        "id": "Rnm9Hzi1M8jo"
      }
    },
    {
      "cell_type": "code",
      "execution_count": null,
      "metadata": {
        "id": "351NAv5Swr3S",
        "colab": {
          "base_uri": "https://localhost:8080/"
        },
        "outputId": "6d7e453b-ab79-4dc0-e704-c24a54528928"
      },
      "outputs": [
        {
          "output_type": "stream",
          "name": "stdout",
          "text": [
            "Reading package lists... Done\n",
            "Building dependency tree... Done\n",
            "Reading state information... Done\n",
            "The following additional packages will be installed:\n",
            "  aglfn default-jre-headless epstool fonts-droid-fallback fonts-freefont-otf fonts-noto-mono\n",
            "  fonts-urw-base35 ghostscript gnuplot-data gnuplot-qt gsfonts imagemagick-6-common info\n",
            "  install-info libamd2 libauthen-sasl-perl libbtf1 libcamd2 libccolamd2 libcholmod3 libclone-perl\n",
            "  libcolamd2 libcombblas1.16.0 libcxsparse3 libdata-dump-perl libemf1 libencode-locale-perl\n",
            "  libevdev2 libfftw3-double3 libfftw3-long3 libfftw3-mpi3 libfftw3-single3 libfile-listing-perl\n",
            "  libfltk-gl1.3 libfltk1.3 libfont-afm-perl libglpk40 libglu1-mesa libgraphicsmagick++-q16-12\n",
            "  libgraphicsmagick-q16-3 libgs9 libgs9-common libgudev-1.0-0 libhdf5-openmpi-103-1\n",
            "  libhtml-form-perl libhtml-format-perl libhtml-parser-perl libhtml-tagset-perl libhtml-tree-perl\n",
            "  libhttp-cookies-perl libhttp-daemon-perl libhttp-date-perl libhttp-message-perl\n",
            "  libhttp-negotiate-perl libhypre-2.22.1 libidn12 libijs-0.35 libinput-bin libinput10\n",
            "  libio-html-perl libio-socket-ssl-perl libjbig2dec0 libklu1 liblqr-1-0 liblua5.4-0\n",
            "  liblwp-mediatypes-perl liblwp-protocol-https-perl libmagick++-6.q16-8 libmagickcore-6.q16-6\n",
            "  libmagickwand-6.q16-6 libmailtools-perl libmd4c0 libmetis5 libmtdev1 libmumps-5.4\n",
            "  libnet-http-perl libnet-smtp-ssl-perl libnet-ssleay-perl libnotify4 libpetsc-real3.15 libplot2c2\n",
            "  libportaudio2 libpstoedit0c2a libptscotch-6.1 libqrupdate1 libqscintilla2-qt5-15\n",
            "  libqscintilla2-qt5-l10n libqt5core5a libqt5dbus5 libqt5gui5 libqt5help5 libqt5network5\n",
            "  libqt5printsupport5 libqt5sql5 libqt5sql5-sqlite libqt5svg5 libqt5widgets5 libqt5xml5\n",
            "  libscalapack-openmpi2.1 libscotch-6.1 libsuitesparseconfig5 libsundials-ida4\n",
            "  libsundials-nvecparallel-petsc4 libsundials-nvecserial4 libsundials-sunlinsol2\n",
            "  libsundials-sunmatrix2 libsuperlu-dist7 libtext-unidecode-perl libtrilinos-amesos-13.2\n",
            "  libtrilinos-aztecoo-13.2 libtrilinos-epetra-13.2 libtrilinos-epetraext-13.2\n",
            "  libtrilinos-galeri-13.2 libtrilinos-ifpack-13.2 libtrilinos-kokkos-13.2 libtrilinos-ml-13.2\n",
            "  libtrilinos-teuchos-13.2 libtrilinos-trilinosss-13.2 libtrilinos-triutils-13.2\n",
            "  libtrilinos-zoltan-13.2 libtry-tiny-perl libumfpack5 liburi-perl libwacom-bin libwacom-common\n",
            "  libwacom9 libwmflite-0.2-7 libwww-perl libwww-robotrules-perl libwxbase3.0-0v5\n",
            "  libwxgtk3.0-gtk3-0v5 libxcb-icccm4 libxcb-image0 libxcb-keysyms1 libxcb-render-util0 libxcb-util1\n",
            "  libxcb-xinerama0 libxcb-xinput0 libxcb-xkb1 libxkbcommon-x11-0 libxml-libxml-perl\n",
            "  libxml-namespacesupport-perl libxml-parser-perl libxml-sax-base-perl libxml-sax-expat-perl\n",
            "  libxml-sax-perl libzip4 netbase octave-common octave-doc perl-openssl-defaults poppler-data\n",
            "  pstoedit qt5-gtk-platformtheme qttranslations5-l10n tex-common texinfo\n",
            "Suggested packages:\n",
            "  default-jre fonts-noto fonts-texgyre ghostscript-x gnuplot-doc libdigest-hmac-perl libgssapi-perl\n",
            "  libfftw3-bin libfftw3-dev libfftw3-mpi-dev libiodbc2-dev graphicsmagick-dbg libcrypt-ssleay-perl\n",
            "  libmagickcore-6.q16-6-extra gnome-shell | notification-daemon libqscintilla2-doc\n",
            "  qt5-image-formats-plugins qtwayland5 scalapack-doc libsub-name-perl libbusiness-isbn-perl\n",
            "  libauthen-ntlm-perl libxml-sax-expatxs-perl octave-dev www-browser | pdf-viewer poppler-utils\n",
            "  fonts-japanese-mincho | fonts-ipafont-mincho fonts-japanese-gothic | fonts-ipafont-gothic\n",
            "  fonts-arphic-ukai fonts-arphic-uming fonts-nanum xfig | ivtools-bin | tgif | transfig debhelper\n",
            "  texlive-base texlive-latex-base texlive-plain-generic texlive-fonts-recommended\n",
            "The following NEW packages will be installed:\n",
            "  aglfn default-jre-headless epstool fonts-droid-fallback fonts-freefont-otf fonts-noto-mono\n",
            "  fonts-urw-base35 ghostscript gnuplot-data gnuplot-qt gsfonts imagemagick-6-common info\n",
            "  install-info libamd2 libauthen-sasl-perl libbtf1 libcamd2 libccolamd2 libcholmod3 libclone-perl\n",
            "  libcolamd2 libcombblas1.16.0 libcxsparse3 libdata-dump-perl libemf1 libencode-locale-perl\n",
            "  libevdev2 libfftw3-double3 libfftw3-long3 libfftw3-mpi3 libfftw3-single3 libfile-listing-perl\n",
            "  libfltk-gl1.3 libfltk1.3 libfont-afm-perl libglpk40 libglu1-mesa libgraphicsmagick++-q16-12\n",
            "  libgraphicsmagick-q16-3 libgs9 libgs9-common libgudev-1.0-0 libhdf5-openmpi-103-1\n",
            "  libhtml-form-perl libhtml-format-perl libhtml-parser-perl libhtml-tagset-perl libhtml-tree-perl\n",
            "  libhttp-cookies-perl libhttp-daemon-perl libhttp-date-perl libhttp-message-perl\n",
            "  libhttp-negotiate-perl libhypre-2.22.1 libidn12 libijs-0.35 libinput-bin libinput10\n",
            "  libio-html-perl libio-socket-ssl-perl libjbig2dec0 libklu1 liblqr-1-0 liblua5.4-0\n",
            "  liblwp-mediatypes-perl liblwp-protocol-https-perl libmagick++-6.q16-8 libmagickcore-6.q16-6\n",
            "  libmagickwand-6.q16-6 libmailtools-perl libmd4c0 libmetis5 libmtdev1 libmumps-5.4\n",
            "  libnet-http-perl libnet-smtp-ssl-perl libnet-ssleay-perl libnotify4 libpetsc-real3.15 libplot2c2\n",
            "  libportaudio2 libpstoedit0c2a libptscotch-6.1 libqrupdate1 libqscintilla2-qt5-15\n",
            "  libqscintilla2-qt5-l10n libqt5core5a libqt5dbus5 libqt5gui5 libqt5help5 libqt5network5\n",
            "  libqt5printsupport5 libqt5sql5 libqt5sql5-sqlite libqt5svg5 libqt5widgets5 libqt5xml5\n",
            "  libscalapack-openmpi2.1 libscotch-6.1 libsuitesparseconfig5 libsundials-ida4\n",
            "  libsundials-nvecparallel-petsc4 libsundials-nvecserial4 libsundials-sunlinsol2\n",
            "  libsundials-sunmatrix2 libsuperlu-dist7 libtext-unidecode-perl libtrilinos-amesos-13.2\n",
            "  libtrilinos-aztecoo-13.2 libtrilinos-epetra-13.2 libtrilinos-epetraext-13.2\n",
            "  libtrilinos-galeri-13.2 libtrilinos-ifpack-13.2 libtrilinos-kokkos-13.2 libtrilinos-ml-13.2\n",
            "  libtrilinos-teuchos-13.2 libtrilinos-trilinosss-13.2 libtrilinos-triutils-13.2\n",
            "  libtrilinos-zoltan-13.2 libtry-tiny-perl libumfpack5 liburi-perl libwacom-bin libwacom-common\n",
            "  libwacom9 libwmflite-0.2-7 libwww-perl libwww-robotrules-perl libwxbase3.0-0v5\n",
            "  libwxgtk3.0-gtk3-0v5 libxcb-icccm4 libxcb-image0 libxcb-keysyms1 libxcb-render-util0 libxcb-util1\n",
            "  libxcb-xinerama0 libxcb-xinput0 libxcb-xkb1 libxkbcommon-x11-0 libxml-libxml-perl\n",
            "  libxml-namespacesupport-perl libxml-parser-perl libxml-sax-base-perl libxml-sax-expat-perl\n",
            "  libxml-sax-perl libzip4 netbase octave octave-common octave-doc perl-openssl-defaults\n",
            "  poppler-data pstoedit qt5-gtk-platformtheme qttranslations5-l10n tex-common texinfo\n",
            "0 upgraded, 158 newly installed, 0 to remove and 45 not upgraded.\n",
            "Need to get 98.9 MB of archives.\n",
            "After this operation, 352 MB of additional disk space will be used.\n",
            "Get:1 http://archive.ubuntu.com/ubuntu jammy/main amd64 install-info amd64 6.8-4build1 [88.1 kB]\n",
            "Get:2 http://archive.ubuntu.com/ubuntu jammy/main amd64 fonts-droid-fallback all 1:6.0.1r16-1.1build1 [1,805 kB]\n",
            "Get:3 http://archive.ubuntu.com/ubuntu jammy/main amd64 libfftw3-double3 amd64 3.3.8-2ubuntu8 [770 kB]\n",
            "Get:4 http://archive.ubuntu.com/ubuntu jammy/universe amd64 liblqr-1-0 amd64 0.4.2-2.1 [27.7 kB]\n",
            "Get:5 http://archive.ubuntu.com/ubuntu jammy-updates/universe amd64 imagemagick-6-common all 8:6.9.11.60+dfsg-1.3ubuntu0.22.04.3 [63.6 kB]\n",
            "Get:6 http://archive.ubuntu.com/ubuntu jammy-updates/universe amd64 libmagickcore-6.q16-6 amd64 8:6.9.11.60+dfsg-1.3ubuntu0.22.04.3 [1,788 kB]\n",
            "Get:7 http://archive.ubuntu.com/ubuntu jammy-updates/universe amd64 libmagickwand-6.q16-6 amd64 8:6.9.11.60+dfsg-1.3ubuntu0.22.04.3 [328 kB]\n",
            "Get:8 http://archive.ubuntu.com/ubuntu jammy-updates/universe amd64 libqt5core5a amd64 5.15.3+dfsg-2ubuntu0.2 [2,006 kB]\n",
            "Get:9 http://archive.ubuntu.com/ubuntu jammy/main amd64 libevdev2 amd64 1.12.1+dfsg-1 [39.5 kB]\n",
            "Get:10 http://archive.ubuntu.com/ubuntu jammy/main amd64 libmtdev1 amd64 1.1.6-1build4 [14.5 kB]\n",
            "Get:11 http://archive.ubuntu.com/ubuntu jammy/main amd64 libgudev-1.0-0 amd64 1:237-2build1 [16.3 kB]\n",
            "Get:12 http://archive.ubuntu.com/ubuntu jammy/main amd64 libwacom-common all 2.2.0-1 [54.3 kB]\n",
            "Get:13 http://archive.ubuntu.com/ubuntu jammy/main amd64 libwacom9 amd64 2.2.0-1 [22.0 kB]\n",
            "Get:14 http://archive.ubuntu.com/ubuntu jammy-updates/main amd64 libinput-bin amd64 1.20.0-1ubuntu0.3 [19.9 kB]\n",
            "Get:15 http://archive.ubuntu.com/ubuntu jammy-updates/main amd64 libinput10 amd64 1.20.0-1ubuntu0.3 [131 kB]\n",
            "Get:16 http://archive.ubuntu.com/ubuntu jammy/universe amd64 libmd4c0 amd64 0.4.8-1 [42.0 kB]\n",
            "Get:17 http://archive.ubuntu.com/ubuntu jammy-updates/universe amd64 libqt5dbus5 amd64 5.15.3+dfsg-2ubuntu0.2 [222 kB]\n",
            "Get:18 http://archive.ubuntu.com/ubuntu jammy-updates/universe amd64 libqt5network5 amd64 5.15.3+dfsg-2ubuntu0.2 [731 kB]\n",
            "Get:19 http://archive.ubuntu.com/ubuntu jammy/main amd64 libxcb-icccm4 amd64 0.4.1-1.1build2 [11.5 kB]\n",
            "Get:20 http://archive.ubuntu.com/ubuntu jammy/main amd64 libxcb-util1 amd64 0.4.0-1build2 [11.4 kB]\n",
            "Get:21 http://archive.ubuntu.com/ubuntu jammy/main amd64 libxcb-image0 amd64 0.4.0-2 [11.5 kB]\n",
            "Get:22 http://archive.ubuntu.com/ubuntu jammy/main amd64 libxcb-keysyms1 amd64 0.4.0-1build3 [8,746 B]\n",
            "Get:23 http://archive.ubuntu.com/ubuntu jammy/main amd64 libxcb-render-util0 amd64 0.3.9-1build3 [10.3 kB]\n",
            "Get:24 http://archive.ubuntu.com/ubuntu jammy/main amd64 libxcb-xinerama0 amd64 1.14-3ubuntu3 [5,414 B]\n",
            "Get:25 http://archive.ubuntu.com/ubuntu jammy/main amd64 libxcb-xinput0 amd64 1.14-3ubuntu3 [34.3 kB]\n",
            "Get:26 http://archive.ubuntu.com/ubuntu jammy/main amd64 libxcb-xkb1 amd64 1.14-3ubuntu3 [32.8 kB]\n",
            "Get:27 http://archive.ubuntu.com/ubuntu jammy/main amd64 libxkbcommon-x11-0 amd64 1.4.0-1 [14.4 kB]\n",
            "Get:28 http://archive.ubuntu.com/ubuntu jammy-updates/universe amd64 libqt5gui5 amd64 5.15.3+dfsg-2ubuntu0.2 [3,722 kB]\n",
            "Get:29 http://archive.ubuntu.com/ubuntu jammy-updates/universe amd64 libqt5widgets5 amd64 5.15.3+dfsg-2ubuntu0.2 [2,561 kB]\n",
            "Get:30 http://archive.ubuntu.com/ubuntu jammy/universe amd64 libqt5svg5 amd64 5.15.3-1 [149 kB]\n",
            "Get:31 http://archive.ubuntu.com/ubuntu jammy/main amd64 poppler-data all 0.4.11-1 [2,171 kB]\n",
            "Get:32 http://archive.ubuntu.com/ubuntu jammy/universe amd64 tex-common all 6.17 [33.7 kB]\n",
            "Get:33 http://archive.ubuntu.com/ubuntu jammy/main amd64 netbase all 6.3 [12.9 kB]\n",
            "Get:34 http://archive.ubuntu.com/ubuntu jammy/main amd64 info amd64 6.8-4build1 [213 kB]\n",
            "Get:35 http://archive.ubuntu.com/ubuntu jammy/main amd64 default-jre-headless amd64 2:1.11-72build2 [3,042 B]\n",
            "Get:36 http://archive.ubuntu.com/ubuntu jammy/main amd64 fonts-urw-base35 all 20200910-1 [6,367 kB]\n",
            "Get:37 http://archive.ubuntu.com/ubuntu jammy-updates/main amd64 libgs9-common all 9.55.0~dfsg1-0ubuntu5.7 [752 kB]\n",
            "Get:38 http://archive.ubuntu.com/ubuntu jammy-updates/main amd64 libidn12 amd64 1.38-4ubuntu1 [60.0 kB]\n",
            "Get:39 http://archive.ubuntu.com/ubuntu jammy/main amd64 libijs-0.35 amd64 0.35-15build2 [16.5 kB]\n",
            "Get:40 http://archive.ubuntu.com/ubuntu jammy/main amd64 libjbig2dec0 amd64 0.19-3build2 [64.7 kB]\n",
            "Get:41 http://archive.ubuntu.com/ubuntu jammy-updates/main amd64 libgs9 amd64 9.55.0~dfsg1-0ubuntu5.7 [5,028 kB]\n",
            "Get:42 http://archive.ubuntu.com/ubuntu jammy-updates/main amd64 ghostscript amd64 9.55.0~dfsg1-0ubuntu5.7 [49.4 kB]\n",
            "Get:43 http://archive.ubuntu.com/ubuntu jammy/universe amd64 epstool amd64 3.09-3 [110 kB]\n",
            "Get:44 http://archive.ubuntu.com/ubuntu jammy/universe amd64 fonts-freefont-otf all 20120503-10build1 [3,054 kB]\n",
            "Get:45 http://archive.ubuntu.com/ubuntu jammy/main amd64 fonts-noto-mono all 20201225-1build1 [397 kB]\n",
            "Get:46 http://archive.ubuntu.com/ubuntu jammy/universe amd64 aglfn all 1.7+git20191031.4036a9c-2 [30.6 kB]\n",
            "Get:47 http://archive.ubuntu.com/ubuntu jammy/universe amd64 gnuplot-data all 5.4.2+dfsg2-2 [75.3 kB]\n",
            "Get:48 http://archive.ubuntu.com/ubuntu jammy/universe amd64 liblua5.4-0 amd64 5.4.4-1 [152 kB]\n",
            "Get:49 http://archive.ubuntu.com/ubuntu jammy-updates/universe amd64 libqt5printsupport5 amd64 5.15.3+dfsg-2ubuntu0.2 [214 kB]\n",
            "Get:50 http://archive.ubuntu.com/ubuntu jammy/universe amd64 libwxbase3.0-0v5 amd64 3.0.5.1+dfsg-4 [881 kB]\n",
            "Get:51 http://archive.ubuntu.com/ubuntu jammy-updates/main amd64 libnotify4 amd64 0.7.9-3ubuntu5.22.04.1 [20.3 kB]\n",
            "Get:52 http://archive.ubuntu.com/ubuntu jammy/universe amd64 libwxgtk3.0-gtk3-0v5 amd64 3.0.5.1+dfsg-4 [4,368 kB]\n",
            "Get:53 http://archive.ubuntu.com/ubuntu jammy/universe amd64 gnuplot-qt amd64 5.4.2+dfsg2-2 [1,156 kB]\n",
            "Get:54 http://archive.ubuntu.com/ubuntu jammy/universe amd64 gsfonts all 1:8.11+urwcyr1.0.7~pre44-4.5 [3,120 kB]\n",
            "Get:55 http://archive.ubuntu.com/ubuntu jammy/main amd64 libsuitesparseconfig5 amd64 1:5.10.1+dfsg-4build1 [10.4 kB]\n",
            "Get:56 http://archive.ubuntu.com/ubuntu jammy/universe amd64 libamd2 amd64 1:5.10.1+dfsg-4build1 [21.6 kB]\n",
            "Get:57 http://archive.ubuntu.com/ubuntu jammy/universe amd64 libbtf1 amd64 1:5.10.1+dfsg-4build1 [12.1 kB]\n",
            "Get:58 http://archive.ubuntu.com/ubuntu jammy/universe amd64 libcamd2 amd64 1:5.10.1+dfsg-4build1 [23.3 kB]\n",
            "Get:59 http://archive.ubuntu.com/ubuntu jammy/universe amd64 libccolamd2 amd64 1:5.10.1+dfsg-4build1 [25.2 kB]\n",
            "Get:60 http://archive.ubuntu.com/ubuntu jammy/main amd64 libcolamd2 amd64 1:5.10.1+dfsg-4build1 [18.0 kB]\n",
            "Get:61 http://archive.ubuntu.com/ubuntu jammy/universe amd64 libmetis5 amd64 5.1.0.dfsg-7build2 [181 kB]\n",
            "Get:62 http://archive.ubuntu.com/ubuntu jammy/universe amd64 libcholmod3 amd64 1:5.10.1+dfsg-4build1 [346 kB]\n",
            "Get:63 http://archive.ubuntu.com/ubuntu jammy/main amd64 libclone-perl amd64 0.45-1build3 [11.0 kB]\n",
            "Get:64 http://archive.ubuntu.com/ubuntu jammy/universe amd64 libcombblas1.16.0 amd64 1.6.2-8 [271 kB]\n",
            "Get:65 http://archive.ubuntu.com/ubuntu jammy/universe amd64 libcxsparse3 amd64 1:5.10.1+dfsg-4build1 [70.8 kB]\n",
            "Get:66 http://archive.ubuntu.com/ubuntu jammy/main amd64 libdata-dump-perl all 1.25-1 [25.9 kB]\n",
            "Get:67 http://archive.ubuntu.com/ubuntu jammy/universe amd64 libemf1 amd64 1.0.13-3 [62.2 kB]\n",
            "Get:68 http://archive.ubuntu.com/ubuntu jammy/main amd64 libencode-locale-perl all 1.05-1.1 [11.8 kB]\n",
            "Get:69 http://archive.ubuntu.com/ubuntu jammy/main amd64 libfftw3-long3 amd64 3.3.8-2ubuntu8 [335 kB]\n",
            "Get:70 http://archive.ubuntu.com/ubuntu jammy/main amd64 libfftw3-single3 amd64 3.3.8-2ubuntu8 [800 kB]\n",
            "Get:71 http://archive.ubuntu.com/ubuntu jammy/universe amd64 libfftw3-mpi3 amd64 3.3.8-2ubuntu8 [48.9 kB]\n",
            "Get:72 http://archive.ubuntu.com/ubuntu jammy/main amd64 libhttp-date-perl all 6.05-1 [9,920 B]\n",
            "Get:73 http://archive.ubuntu.com/ubuntu jammy/main amd64 libfile-listing-perl all 6.14-1 [11.2 kB]\n",
            "Get:74 http://archive.ubuntu.com/ubuntu jammy/universe amd64 libfltk1.3 amd64 1.3.8-4 [628 kB]\n",
            "Get:75 http://archive.ubuntu.com/ubuntu jammy/universe amd64 libfltk-gl1.3 amd64 1.3.8-4 [45.9 kB]\n",
            "Get:76 http://archive.ubuntu.com/ubuntu jammy/main amd64 libfont-afm-perl all 1.20-3 [13.6 kB]\n",
            "Get:77 http://archive.ubuntu.com/ubuntu jammy/universe amd64 libglpk40 amd64 5.0-1 [361 kB]\n",
            "Get:78 http://archive.ubuntu.com/ubuntu jammy/main amd64 libwmflite-0.2-7 amd64 0.2.12-5ubuntu1 [68.9 kB]\n",
            "Get:79 http://archive.ubuntu.com/ubuntu jammy-updates/universe amd64 libgraphicsmagick-q16-3 amd64 1.4+really1.3.38-1ubuntu0.1 [1,238 kB]\n",
            "Get:80 http://archive.ubuntu.com/ubuntu jammy-updates/universe amd64 libgraphicsmagick++-q16-12 amd64 1.4+really1.3.38-1ubuntu0.1 [122 kB]\n",
            "Get:81 http://archive.ubuntu.com/ubuntu jammy/universe amd64 libhdf5-openmpi-103-1 amd64 1.10.7+repack-4ubuntu2 [1,344 kB]\n",
            "Get:82 http://archive.ubuntu.com/ubuntu jammy/main amd64 libhtml-tagset-perl all 3.20-4 [12.5 kB]\n",
            "Get:83 http://archive.ubuntu.com/ubuntu jammy/main amd64 liburi-perl all 5.10-1 [78.8 kB]\n",
            "Get:84 http://archive.ubuntu.com/ubuntu jammy/main amd64 libhtml-parser-perl amd64 3.76-1build2 [88.4 kB]\n",
            "Get:85 http://archive.ubuntu.com/ubuntu jammy/main amd64 libio-html-perl all 1.004-2 [15.4 kB]\n",
            "Get:86 http://archive.ubuntu.com/ubuntu jammy/main amd64 liblwp-mediatypes-perl all 6.04-1 [19.5 kB]\n",
            "Get:87 http://archive.ubuntu.com/ubuntu jammy/main amd64 libhttp-message-perl all 6.36-1 [76.8 kB]\n",
            "Get:88 http://archive.ubuntu.com/ubuntu jammy/main amd64 libhtml-form-perl all 6.07-1 [22.2 kB]\n",
            "Get:89 http://archive.ubuntu.com/ubuntu jammy/main amd64 libhtml-tree-perl all 5.07-2 [200 kB]\n",
            "Get:90 http://archive.ubuntu.com/ubuntu jammy/main amd64 libhtml-format-perl all 2.12-1.1 [41.3 kB]\n",
            "Get:91 http://archive.ubuntu.com/ubuntu jammy/main amd64 libhttp-cookies-perl all 6.10-1 [18.4 kB]\n",
            "Get:92 http://archive.ubuntu.com/ubuntu jammy-updates/main amd64 libhttp-daemon-perl all 6.13-1ubuntu0.1 [22.9 kB]\n",
            "Get:93 http://archive.ubuntu.com/ubuntu jammy/main amd64 libhttp-negotiate-perl all 6.01-1 [12.5 kB]\n",
            "Get:94 http://archive.ubuntu.com/ubuntu jammy/universe amd64 libptscotch-6.1 amd64 6.1.3-1 [702 kB]\n",
            "Get:95 http://archive.ubuntu.com/ubuntu jammy/universe amd64 libsuperlu-dist7 amd64 7.2.0+dfsg1-2 [545 kB]\n",
            "Get:96 http://archive.ubuntu.com/ubuntu jammy/universe amd64 libhypre-2.22.1 amd64 2.22.1-7 [1,612 kB]\n",
            "Get:97 http://archive.ubuntu.com/ubuntu jammy/main amd64 perl-openssl-defaults amd64 5build2 [7,542 B]\n",
            "Get:98 http://archive.ubuntu.com/ubuntu jammy/main amd64 libnet-ssleay-perl amd64 1.92-1build2 [327 kB]\n",
            "Get:99 http://archive.ubuntu.com/ubuntu jammy/main amd64 libio-socket-ssl-perl all 2.074-2 [192 kB]\n",
            "Get:100 http://archive.ubuntu.com/ubuntu jammy/universe amd64 libklu1 amd64 1:5.10.1+dfsg-4build1 [77.6 kB]\n",
            "Get:101 http://archive.ubuntu.com/ubuntu jammy/main amd64 libnet-http-perl all 6.22-1 [23.2 kB]\n",
            "Get:102 http://archive.ubuntu.com/ubuntu jammy/main amd64 libtry-tiny-perl all 0.31-1 [21.8 kB]\n",
            "Get:103 http://archive.ubuntu.com/ubuntu jammy/main amd64 libwww-robotrules-perl all 6.02-1 [12.6 kB]\n",
            "Get:104 http://archive.ubuntu.com/ubuntu jammy/main amd64 libwww-perl all 6.61-1 [141 kB]\n",
            "Get:105 http://archive.ubuntu.com/ubuntu jammy/main amd64 liblwp-protocol-https-perl all 6.10-1 [10.9 kB]\n",
            "Get:106 http://archive.ubuntu.com/ubuntu jammy-updates/universe amd64 libmagick++-6.q16-8 amd64 8:6.9.11.60+dfsg-1.3ubuntu0.22.04.3 [157 kB]\n",
            "Get:107 http://archive.ubuntu.com/ubuntu jammy/main amd64 libnet-smtp-ssl-perl all 1.04-1 [5,948 B]\n",
            "Get:108 http://archive.ubuntu.com/ubuntu jammy/main amd64 libmailtools-perl all 2.21-1 [80.7 kB]\n",
            "Get:109 http://archive.ubuntu.com/ubuntu jammy/universe amd64 libscalapack-openmpi2.1 amd64 2.1.0-4 [1,534 kB]\n",
            "Get:110 http://archive.ubuntu.com/ubuntu jammy/universe amd64 libmumps-5.4 amd64 5.4.1-2 [1,826 kB]\n",
            "Get:111 http://archive.ubuntu.com/ubuntu jammy/universe amd64 libscotch-6.1 amd64 6.1.3-1 [422 kB]\n",
            "Get:112 http://archive.ubuntu.com/ubuntu jammy/universe amd64 libtrilinos-kokkos-13.2 amd64 13.2.0-1ubuntu1 [107 kB]\n",
            "Get:113 http://archive.ubuntu.com/ubuntu jammy/universe amd64 libtrilinos-teuchos-13.2 amd64 13.2.0-1ubuntu1 [1,193 kB]\n",
            "Get:114 http://archive.ubuntu.com/ubuntu jammy/universe amd64 libtrilinos-epetra-13.2 amd64 13.2.0-1ubuntu1 [458 kB]\n",
            "Get:115 http://archive.ubuntu.com/ubuntu jammy/universe amd64 libtrilinos-triutils-13.2 amd64 13.2.0-1ubuntu1 [130 kB]\n",
            "Get:116 http://archive.ubuntu.com/ubuntu jammy/universe amd64 libtrilinos-epetraext-13.2 amd64 13.2.0-1ubuntu1 [448 kB]\n",
            "Get:117 http://archive.ubuntu.com/ubuntu jammy/universe amd64 libtrilinos-trilinosss-13.2 amd64 13.2.0-1ubuntu1 [89.9 kB]\n",
            "Get:118 http://archive.ubuntu.com/ubuntu jammy/universe amd64 libtrilinos-amesos-13.2 amd64 13.2.0-1ubuntu1 [109 kB]\n",
            "Get:119 http://archive.ubuntu.com/ubuntu jammy/universe amd64 libtrilinos-aztecoo-13.2 amd64 13.2.0-1ubuntu1 [219 kB]\n",
            "Get:120 http://archive.ubuntu.com/ubuntu jammy/universe amd64 libtrilinos-galeri-13.2 amd64 13.2.0-1ubuntu1 [91.2 kB]\n",
            "Get:121 http://archive.ubuntu.com/ubuntu jammy/universe amd64 libtrilinos-ifpack-13.2 amd64 13.2.0-1ubuntu1 [443 kB]\n",
            "Get:122 http://archive.ubuntu.com/ubuntu jammy/universe amd64 libtrilinos-zoltan-13.2 amd64 13.2.0-1ubuntu1 [403 kB]\n",
            "Get:123 http://archive.ubuntu.com/ubuntu jammy/universe amd64 libtrilinos-ml-13.2 amd64 13.2.0-1ubuntu1 [992 kB]\n",
            "Get:124 http://archive.ubuntu.com/ubuntu jammy/universe amd64 libumfpack5 amd64 1:5.10.1+dfsg-4build1 [250 kB]\n",
            "Get:125 http://archive.ubuntu.com/ubuntu jammy/universe amd64 libpetsc-real3.15 amd64 3.15.5+dfsg1-1build2 [6,095 kB]\n",
            "Get:126 http://archive.ubuntu.com/ubuntu jammy/universe amd64 libplot2c2 amd64 2.6-11 [506 kB]\n",
            "Get:127 http://archive.ubuntu.com/ubuntu jammy/universe amd64 libportaudio2 amd64 19.6.0-1.1 [65.3 kB]\n",
            "Get:128 http://archive.ubuntu.com/ubuntu jammy/universe amd64 libzip4 amd64 1.7.3-1ubuntu2 [55.0 kB]\n",
            "Get:129 http://archive.ubuntu.com/ubuntu jammy/universe amd64 libpstoedit0c2a amd64 3.78-1 [373 kB]\n",
            "Get:130 http://archive.ubuntu.com/ubuntu jammy/universe amd64 libqrupdate1 amd64 1.1.2-4 [36.8 kB]\n",
            "Get:131 http://archive.ubuntu.com/ubuntu jammy/universe amd64 libqscintilla2-qt5-l10n all 2.11.6+dfsg-4 [54.8 kB]\n",
            "Get:132 http://archive.ubuntu.com/ubuntu jammy/universe amd64 libqscintilla2-qt5-15 amd64 2.11.6+dfsg-4 [1,217 kB]\n",
            "Get:133 http://archive.ubuntu.com/ubuntu jammy-updates/universe amd64 libqt5sql5 amd64 5.15.3+dfsg-2ubuntu0.2 [123 kB]\n",
            "Get:134 http://archive.ubuntu.com/ubuntu jammy/universe amd64 libqt5help5 amd64 5.15.3-1 [162 kB]\n",
            "Get:135 http://archive.ubuntu.com/ubuntu jammy-updates/universe amd64 libqt5sql5-sqlite amd64 5.15.3+dfsg-2ubuntu0.2 [53.0 kB]\n",
            "Get:136 http://archive.ubuntu.com/ubuntu jammy-updates/universe amd64 libqt5xml5 amd64 5.15.3+dfsg-2ubuntu0.2 [124 kB]\n",
            "Get:137 http://archive.ubuntu.com/ubuntu jammy/universe amd64 libsundials-ida4 amd64 5.8.0+dfsg-1build1 [80.1 kB]\n",
            "Get:138 http://archive.ubuntu.com/ubuntu jammy/universe amd64 libsundials-nvecparallel-petsc4 amd64 5.8.0+dfsg-1build1 [31.1 kB]\n",
            "Get:139 http://archive.ubuntu.com/ubuntu jammy/universe amd64 libsundials-nvecserial4 amd64 5.8.0+dfsg-1build1 [40.9 kB]\n",
            "Get:140 http://archive.ubuntu.com/ubuntu jammy/universe amd64 libsundials-sunmatrix2 amd64 5.8.0+dfsg-1build1 [42.9 kB]\n",
            "Get:141 http://archive.ubuntu.com/ubuntu jammy/universe amd64 libsundials-sunlinsol2 amd64 5.8.0+dfsg-1build1 [93.7 kB]\n",
            "Get:142 http://archive.ubuntu.com/ubuntu jammy/universe amd64 libtext-unidecode-perl all 1.30-1 [99.0 kB]\n",
            "Get:143 http://archive.ubuntu.com/ubuntu jammy/main amd64 libwacom-bin amd64 2.2.0-1 [13.6 kB]\n",
            "Get:144 http://archive.ubuntu.com/ubuntu jammy/main amd64 libxml-namespacesupport-perl all 1.12-1.1 [13.2 kB]\n",
            "Get:145 http://archive.ubuntu.com/ubuntu jammy/main amd64 libxml-sax-base-perl all 1.09-1.1 [19.0 kB]\n",
            "Get:146 http://archive.ubuntu.com/ubuntu jammy/main amd64 libxml-sax-perl all 1.02+dfsg-3 [57.0 kB]\n",
            "Get:147 http://archive.ubuntu.com/ubuntu jammy/main amd64 libxml-libxml-perl amd64 2.0207+dfsg+really+2.0134-1 [325 kB]\n",
            "Get:148 http://archive.ubuntu.com/ubuntu jammy/main amd64 libxml-parser-perl amd64 2.46-3build1 [212 kB]\n",
            "Get:149 http://archive.ubuntu.com/ubuntu jammy/main amd64 libxml-sax-expat-perl all 0.51-1 [10.5 kB]\n",
            "Get:150 http://archive.ubuntu.com/ubuntu jammy/universe amd64 pstoedit amd64 3.78-1 [405 kB]\n",
            "Get:151 http://archive.ubuntu.com/ubuntu jammy-updates/universe amd64 qt5-gtk-platformtheme amd64 5.15.3+dfsg-2ubuntu0.2 [130 kB]\n",
            "Get:152 http://archive.ubuntu.com/ubuntu jammy/universe amd64 qttranslations5-l10n all 5.15.3-1 [1,983 kB]\n",
            "Get:153 http://archive.ubuntu.com/ubuntu jammy/universe amd64 texinfo amd64 6.8-4build1 [1,423 kB]\n",
            "Get:154 http://archive.ubuntu.com/ubuntu jammy/main amd64 libauthen-sasl-perl all 2.1600-1.1 [43.1 kB]\n",
            "Get:155 http://archive.ubuntu.com/ubuntu jammy/main amd64 libglu1-mesa amd64 9.0.2-1 [145 kB]\n",
            "Get:156 http://archive.ubuntu.com/ubuntu jammy/universe amd64 octave-common all 6.4.0-2 [5,457 kB]\n",
            "Get:157 http://archive.ubuntu.com/ubuntu jammy/universe amd64 octave amd64 6.4.0-2 [9,330 kB]\n",
            "Get:158 http://archive.ubuntu.com/ubuntu jammy/universe amd64 octave-doc all 6.4.0-2 [7,665 kB]\n",
            "Fetched 98.9 MB in 3s (32.8 MB/s)\n",
            "Extracting templates from packages: 100%\n",
            "Selecting previously unselected package install-info.\n",
            "(Reading database ... 121925 files and directories currently installed.)\n",
            "Preparing to unpack .../install-info_6.8-4build1_amd64.deb ...\n",
            "Unpacking install-info (6.8-4build1) ...\n",
            "Setting up install-info (6.8-4build1) ...\n",
            "Selecting previously unselected package fonts-droid-fallback.\n",
            "(Reading database ... 121938 files and directories currently installed.)\n",
            "Preparing to unpack .../000-fonts-droid-fallback_1%3a6.0.1r16-1.1build1_all.deb ...\n",
            "Unpacking fonts-droid-fallback (1:6.0.1r16-1.1build1) ...\n",
            "Selecting previously unselected package libfftw3-double3:amd64.\n",
            "Preparing to unpack .../001-libfftw3-double3_3.3.8-2ubuntu8_amd64.deb ...\n",
            "Unpacking libfftw3-double3:amd64 (3.3.8-2ubuntu8) ...\n",
            "Selecting previously unselected package liblqr-1-0:amd64.\n",
            "Preparing to unpack .../002-liblqr-1-0_0.4.2-2.1_amd64.deb ...\n",
            "Unpacking liblqr-1-0:amd64 (0.4.2-2.1) ...\n",
            "Selecting previously unselected package imagemagick-6-common.\n",
            "Preparing to unpack .../003-imagemagick-6-common_8%3a6.9.11.60+dfsg-1.3ubuntu0.22.04.3_all.deb ...\n",
            "Unpacking imagemagick-6-common (8:6.9.11.60+dfsg-1.3ubuntu0.22.04.3) ...\n",
            "Selecting previously unselected package libmagickcore-6.q16-6:amd64.\n",
            "Preparing to unpack .../004-libmagickcore-6.q16-6_8%3a6.9.11.60+dfsg-1.3ubuntu0.22.04.3_amd64.deb ...\n",
            "Unpacking libmagickcore-6.q16-6:amd64 (8:6.9.11.60+dfsg-1.3ubuntu0.22.04.3) ...\n",
            "Selecting previously unselected package libmagickwand-6.q16-6:amd64.\n",
            "Preparing to unpack .../005-libmagickwand-6.q16-6_8%3a6.9.11.60+dfsg-1.3ubuntu0.22.04.3_amd64.deb ...\n",
            "Unpacking libmagickwand-6.q16-6:amd64 (8:6.9.11.60+dfsg-1.3ubuntu0.22.04.3) ...\n",
            "Selecting previously unselected package libqt5core5a:amd64.\n",
            "Preparing to unpack .../006-libqt5core5a_5.15.3+dfsg-2ubuntu0.2_amd64.deb ...\n",
            "Unpacking libqt5core5a:amd64 (5.15.3+dfsg-2ubuntu0.2) ...\n",
            "Selecting previously unselected package libevdev2:amd64.\n",
            "Preparing to unpack .../007-libevdev2_1.12.1+dfsg-1_amd64.deb ...\n",
            "Unpacking libevdev2:amd64 (1.12.1+dfsg-1) ...\n",
            "Selecting previously unselected package libmtdev1:amd64.\n",
            "Preparing to unpack .../008-libmtdev1_1.1.6-1build4_amd64.deb ...\n",
            "Unpacking libmtdev1:amd64 (1.1.6-1build4) ...\n",
            "Selecting previously unselected package libgudev-1.0-0:amd64.\n",
            "Preparing to unpack .../009-libgudev-1.0-0_1%3a237-2build1_amd64.deb ...\n",
            "Unpacking libgudev-1.0-0:amd64 (1:237-2build1) ...\n",
            "Selecting previously unselected package libwacom-common.\n",
            "Preparing to unpack .../010-libwacom-common_2.2.0-1_all.deb ...\n",
            "Unpacking libwacom-common (2.2.0-1) ...\n",
            "Selecting previously unselected package libwacom9:amd64.\n",
            "Preparing to unpack .../011-libwacom9_2.2.0-1_amd64.deb ...\n",
            "Unpacking libwacom9:amd64 (2.2.0-1) ...\n",
            "Selecting previously unselected package libinput-bin.\n",
            "Preparing to unpack .../012-libinput-bin_1.20.0-1ubuntu0.3_amd64.deb ...\n",
            "Unpacking libinput-bin (1.20.0-1ubuntu0.3) ...\n",
            "Selecting previously unselected package libinput10:amd64.\n",
            "Preparing to unpack .../013-libinput10_1.20.0-1ubuntu0.3_amd64.deb ...\n",
            "Unpacking libinput10:amd64 (1.20.0-1ubuntu0.3) ...\n",
            "Selecting previously unselected package libmd4c0:amd64.\n",
            "Preparing to unpack .../014-libmd4c0_0.4.8-1_amd64.deb ...\n",
            "Unpacking libmd4c0:amd64 (0.4.8-1) ...\n",
            "Selecting previously unselected package libqt5dbus5:amd64.\n",
            "Preparing to unpack .../015-libqt5dbus5_5.15.3+dfsg-2ubuntu0.2_amd64.deb ...\n",
            "Unpacking libqt5dbus5:amd64 (5.15.3+dfsg-2ubuntu0.2) ...\n",
            "Selecting previously unselected package libqt5network5:amd64.\n",
            "Preparing to unpack .../016-libqt5network5_5.15.3+dfsg-2ubuntu0.2_amd64.deb ...\n",
            "Unpacking libqt5network5:amd64 (5.15.3+dfsg-2ubuntu0.2) ...\n",
            "Selecting previously unselected package libxcb-icccm4:amd64.\n",
            "Preparing to unpack .../017-libxcb-icccm4_0.4.1-1.1build2_amd64.deb ...\n",
            "Unpacking libxcb-icccm4:amd64 (0.4.1-1.1build2) ...\n",
            "Selecting previously unselected package libxcb-util1:amd64.\n",
            "Preparing to unpack .../018-libxcb-util1_0.4.0-1build2_amd64.deb ...\n",
            "Unpacking libxcb-util1:amd64 (0.4.0-1build2) ...\n",
            "Selecting previously unselected package libxcb-image0:amd64.\n",
            "Preparing to unpack .../019-libxcb-image0_0.4.0-2_amd64.deb ...\n",
            "Unpacking libxcb-image0:amd64 (0.4.0-2) ...\n",
            "Selecting previously unselected package libxcb-keysyms1:amd64.\n",
            "Preparing to unpack .../020-libxcb-keysyms1_0.4.0-1build3_amd64.deb ...\n",
            "Unpacking libxcb-keysyms1:amd64 (0.4.0-1build3) ...\n",
            "Selecting previously unselected package libxcb-render-util0:amd64.\n",
            "Preparing to unpack .../021-libxcb-render-util0_0.3.9-1build3_amd64.deb ...\n",
            "Unpacking libxcb-render-util0:amd64 (0.3.9-1build3) ...\n",
            "Selecting previously unselected package libxcb-xinerama0:amd64.\n",
            "Preparing to unpack .../022-libxcb-xinerama0_1.14-3ubuntu3_amd64.deb ...\n",
            "Unpacking libxcb-xinerama0:amd64 (1.14-3ubuntu3) ...\n",
            "Selecting previously unselected package libxcb-xinput0:amd64.\n",
            "Preparing to unpack .../023-libxcb-xinput0_1.14-3ubuntu3_amd64.deb ...\n",
            "Unpacking libxcb-xinput0:amd64 (1.14-3ubuntu3) ...\n",
            "Selecting previously unselected package libxcb-xkb1:amd64.\n",
            "Preparing to unpack .../024-libxcb-xkb1_1.14-3ubuntu3_amd64.deb ...\n",
            "Unpacking libxcb-xkb1:amd64 (1.14-3ubuntu3) ...\n",
            "Selecting previously unselected package libxkbcommon-x11-0:amd64.\n",
            "Preparing to unpack .../025-libxkbcommon-x11-0_1.4.0-1_amd64.deb ...\n",
            "Unpacking libxkbcommon-x11-0:amd64 (1.4.0-1) ...\n",
            "Selecting previously unselected package libqt5gui5:amd64.\n",
            "Preparing to unpack .../026-libqt5gui5_5.15.3+dfsg-2ubuntu0.2_amd64.deb ...\n",
            "Unpacking libqt5gui5:amd64 (5.15.3+dfsg-2ubuntu0.2) ...\n",
            "Selecting previously unselected package libqt5widgets5:amd64.\n",
            "Preparing to unpack .../027-libqt5widgets5_5.15.3+dfsg-2ubuntu0.2_amd64.deb ...\n",
            "Unpacking libqt5widgets5:amd64 (5.15.3+dfsg-2ubuntu0.2) ...\n",
            "Selecting previously unselected package libqt5svg5:amd64.\n",
            "Preparing to unpack .../028-libqt5svg5_5.15.3-1_amd64.deb ...\n",
            "Unpacking libqt5svg5:amd64 (5.15.3-1) ...\n",
            "Selecting previously unselected package poppler-data.\n",
            "Preparing to unpack .../029-poppler-data_0.4.11-1_all.deb ...\n",
            "Unpacking poppler-data (0.4.11-1) ...\n",
            "Selecting previously unselected package tex-common.\n",
            "Preparing to unpack .../030-tex-common_6.17_all.deb ...\n",
            "Unpacking tex-common (6.17) ...\n",
            "Selecting previously unselected package netbase.\n",
            "Preparing to unpack .../031-netbase_6.3_all.deb ...\n",
            "Unpacking netbase (6.3) ...\n",
            "Selecting previously unselected package info.\n",
            "Preparing to unpack .../032-info_6.8-4build1_amd64.deb ...\n",
            "Unpacking info (6.8-4build1) ...\n",
            "Selecting previously unselected package default-jre-headless.\n",
            "Preparing to unpack .../033-default-jre-headless_2%3a1.11-72build2_amd64.deb ...\n",
            "Unpacking default-jre-headless (2:1.11-72build2) ...\n",
            "Selecting previously unselected package fonts-urw-base35.\n",
            "Preparing to unpack .../034-fonts-urw-base35_20200910-1_all.deb ...\n",
            "Unpacking fonts-urw-base35 (20200910-1) ...\n",
            "Selecting previously unselected package libgs9-common.\n",
            "Preparing to unpack .../035-libgs9-common_9.55.0~dfsg1-0ubuntu5.7_all.deb ...\n",
            "Unpacking libgs9-common (9.55.0~dfsg1-0ubuntu5.7) ...\n",
            "Selecting previously unselected package libidn12:amd64.\n",
            "Preparing to unpack .../036-libidn12_1.38-4ubuntu1_amd64.deb ...\n",
            "Unpacking libidn12:amd64 (1.38-4ubuntu1) ...\n",
            "Selecting previously unselected package libijs-0.35:amd64.\n",
            "Preparing to unpack .../037-libijs-0.35_0.35-15build2_amd64.deb ...\n",
            "Unpacking libijs-0.35:amd64 (0.35-15build2) ...\n",
            "Selecting previously unselected package libjbig2dec0:amd64.\n",
            "Preparing to unpack .../038-libjbig2dec0_0.19-3build2_amd64.deb ...\n",
            "Unpacking libjbig2dec0:amd64 (0.19-3build2) ...\n",
            "Selecting previously unselected package libgs9:amd64.\n",
            "Preparing to unpack .../039-libgs9_9.55.0~dfsg1-0ubuntu5.7_amd64.deb ...\n",
            "Unpacking libgs9:amd64 (9.55.0~dfsg1-0ubuntu5.7) ...\n",
            "Selecting previously unselected package ghostscript.\n",
            "Preparing to unpack .../040-ghostscript_9.55.0~dfsg1-0ubuntu5.7_amd64.deb ...\n",
            "Unpacking ghostscript (9.55.0~dfsg1-0ubuntu5.7) ...\n",
            "Selecting previously unselected package epstool.\n",
            "Preparing to unpack .../041-epstool_3.09-3_amd64.deb ...\n",
            "Unpacking epstool (3.09-3) ...\n",
            "Selecting previously unselected package fonts-freefont-otf.\n",
            "Preparing to unpack .../042-fonts-freefont-otf_20120503-10build1_all.deb ...\n",
            "Unpacking fonts-freefont-otf (20120503-10build1) ...\n",
            "Selecting previously unselected package fonts-noto-mono.\n",
            "Preparing to unpack .../043-fonts-noto-mono_20201225-1build1_all.deb ...\n",
            "Unpacking fonts-noto-mono (20201225-1build1) ...\n",
            "Selecting previously unselected package aglfn.\n",
            "Preparing to unpack .../044-aglfn_1.7+git20191031.4036a9c-2_all.deb ...\n",
            "Unpacking aglfn (1.7+git20191031.4036a9c-2) ...\n",
            "Selecting previously unselected package gnuplot-data.\n",
            "Preparing to unpack .../045-gnuplot-data_5.4.2+dfsg2-2_all.deb ...\n",
            "Unpacking gnuplot-data (5.4.2+dfsg2-2) ...\n",
            "Selecting previously unselected package liblua5.4-0:amd64.\n",
            "Preparing to unpack .../046-liblua5.4-0_5.4.4-1_amd64.deb ...\n",
            "Unpacking liblua5.4-0:amd64 (5.4.4-1) ...\n",
            "Selecting previously unselected package libqt5printsupport5:amd64.\n",
            "Preparing to unpack .../047-libqt5printsupport5_5.15.3+dfsg-2ubuntu0.2_amd64.deb ...\n",
            "Unpacking libqt5printsupport5:amd64 (5.15.3+dfsg-2ubuntu0.2) ...\n",
            "Selecting previously unselected package libwxbase3.0-0v5:amd64.\n",
            "Preparing to unpack .../048-libwxbase3.0-0v5_3.0.5.1+dfsg-4_amd64.deb ...\n",
            "Unpacking libwxbase3.0-0v5:amd64 (3.0.5.1+dfsg-4) ...\n",
            "Selecting previously unselected package libnotify4:amd64.\n",
            "Preparing to unpack .../049-libnotify4_0.7.9-3ubuntu5.22.04.1_amd64.deb ...\n",
            "Unpacking libnotify4:amd64 (0.7.9-3ubuntu5.22.04.1) ...\n",
            "Selecting previously unselected package libwxgtk3.0-gtk3-0v5:amd64.\n",
            "Preparing to unpack .../050-libwxgtk3.0-gtk3-0v5_3.0.5.1+dfsg-4_amd64.deb ...\n",
            "Unpacking libwxgtk3.0-gtk3-0v5:amd64 (3.0.5.1+dfsg-4) ...\n",
            "Selecting previously unselected package gnuplot-qt.\n",
            "Preparing to unpack .../051-gnuplot-qt_5.4.2+dfsg2-2_amd64.deb ...\n",
            "Unpacking gnuplot-qt (5.4.2+dfsg2-2) ...\n",
            "Selecting previously unselected package gsfonts.\n",
            "Preparing to unpack .../052-gsfonts_1%3a8.11+urwcyr1.0.7~pre44-4.5_all.deb ...\n",
            "Unpacking gsfonts (1:8.11+urwcyr1.0.7~pre44-4.5) ...\n",
            "Selecting previously unselected package libsuitesparseconfig5:amd64.\n",
            "Preparing to unpack .../053-libsuitesparseconfig5_1%3a5.10.1+dfsg-4build1_amd64.deb ...\n",
            "Unpacking libsuitesparseconfig5:amd64 (1:5.10.1+dfsg-4build1) ...\n",
            "Selecting previously unselected package libamd2:amd64.\n",
            "Preparing to unpack .../054-libamd2_1%3a5.10.1+dfsg-4build1_amd64.deb ...\n",
            "Unpacking libamd2:amd64 (1:5.10.1+dfsg-4build1) ...\n",
            "Selecting previously unselected package libbtf1:amd64.\n",
            "Preparing to unpack .../055-libbtf1_1%3a5.10.1+dfsg-4build1_amd64.deb ...\n",
            "Unpacking libbtf1:amd64 (1:5.10.1+dfsg-4build1) ...\n",
            "Selecting previously unselected package libcamd2:amd64.\n",
            "Preparing to unpack .../056-libcamd2_1%3a5.10.1+dfsg-4build1_amd64.deb ...\n",
            "Unpacking libcamd2:amd64 (1:5.10.1+dfsg-4build1) ...\n",
            "Selecting previously unselected package libccolamd2:amd64.\n",
            "Preparing to unpack .../057-libccolamd2_1%3a5.10.1+dfsg-4build1_amd64.deb ...\n",
            "Unpacking libccolamd2:amd64 (1:5.10.1+dfsg-4build1) ...\n",
            "Selecting previously unselected package libcolamd2:amd64.\n",
            "Preparing to unpack .../058-libcolamd2_1%3a5.10.1+dfsg-4build1_amd64.deb ...\n",
            "Unpacking libcolamd2:amd64 (1:5.10.1+dfsg-4build1) ...\n",
            "Selecting previously unselected package libmetis5:amd64.\n",
            "Preparing to unpack .../059-libmetis5_5.1.0.dfsg-7build2_amd64.deb ...\n",
            "Unpacking libmetis5:amd64 (5.1.0.dfsg-7build2) ...\n",
            "Selecting previously unselected package libcholmod3:amd64.\n",
            "Preparing to unpack .../060-libcholmod3_1%3a5.10.1+dfsg-4build1_amd64.deb ...\n",
            "Unpacking libcholmod3:amd64 (1:5.10.1+dfsg-4build1) ...\n",
            "Selecting previously unselected package libclone-perl.\n",
            "Preparing to unpack .../061-libclone-perl_0.45-1build3_amd64.deb ...\n",
            "Unpacking libclone-perl (0.45-1build3) ...\n",
            "Selecting previously unselected package libcombblas1.16.0:amd64.\n",
            "Preparing to unpack .../062-libcombblas1.16.0_1.6.2-8_amd64.deb ...\n",
            "Unpacking libcombblas1.16.0:amd64 (1.6.2-8) ...\n",
            "Selecting previously unselected package libcxsparse3:amd64.\n",
            "Preparing to unpack .../063-libcxsparse3_1%3a5.10.1+dfsg-4build1_amd64.deb ...\n",
            "Unpacking libcxsparse3:amd64 (1:5.10.1+dfsg-4build1) ...\n",
            "Selecting previously unselected package libdata-dump-perl.\n",
            "Preparing to unpack .../064-libdata-dump-perl_1.25-1_all.deb ...\n",
            "Unpacking libdata-dump-perl (1.25-1) ...\n",
            "Selecting previously unselected package libemf1:amd64.\n",
            "Preparing to unpack .../065-libemf1_1.0.13-3_amd64.deb ...\n",
            "Unpacking libemf1:amd64 (1.0.13-3) ...\n",
            "Selecting previously unselected package libencode-locale-perl.\n",
            "Preparing to unpack .../066-libencode-locale-perl_1.05-1.1_all.deb ...\n",
            "Unpacking libencode-locale-perl (1.05-1.1) ...\n",
            "Selecting previously unselected package libfftw3-long3:amd64.\n",
            "Preparing to unpack .../067-libfftw3-long3_3.3.8-2ubuntu8_amd64.deb ...\n",
            "Unpacking libfftw3-long3:amd64 (3.3.8-2ubuntu8) ...\n",
            "Selecting previously unselected package libfftw3-single3:amd64.\n",
            "Preparing to unpack .../068-libfftw3-single3_3.3.8-2ubuntu8_amd64.deb ...\n",
            "Unpacking libfftw3-single3:amd64 (3.3.8-2ubuntu8) ...\n",
            "Selecting previously unselected package libfftw3-mpi3:amd64.\n",
            "Preparing to unpack .../069-libfftw3-mpi3_3.3.8-2ubuntu8_amd64.deb ...\n",
            "Unpacking libfftw3-mpi3:amd64 (3.3.8-2ubuntu8) ...\n",
            "Selecting previously unselected package libhttp-date-perl.\n",
            "Preparing to unpack .../070-libhttp-date-perl_6.05-1_all.deb ...\n",
            "Unpacking libhttp-date-perl (6.05-1) ...\n",
            "Selecting previously unselected package libfile-listing-perl.\n",
            "Preparing to unpack .../071-libfile-listing-perl_6.14-1_all.deb ...\n",
            "Unpacking libfile-listing-perl (6.14-1) ...\n",
            "Selecting previously unselected package libfltk1.3:amd64.\n",
            "Preparing to unpack .../072-libfltk1.3_1.3.8-4_amd64.deb ...\n",
            "Unpacking libfltk1.3:amd64 (1.3.8-4) ...\n",
            "Selecting previously unselected package libfltk-gl1.3:amd64.\n",
            "Preparing to unpack .../073-libfltk-gl1.3_1.3.8-4_amd64.deb ...\n",
            "Unpacking libfltk-gl1.3:amd64 (1.3.8-4) ...\n",
            "Selecting previously unselected package libfont-afm-perl.\n",
            "Preparing to unpack .../074-libfont-afm-perl_1.20-3_all.deb ...\n",
            "Unpacking libfont-afm-perl (1.20-3) ...\n",
            "Selecting previously unselected package libglpk40:amd64.\n",
            "Preparing to unpack .../075-libglpk40_5.0-1_amd64.deb ...\n",
            "Unpacking libglpk40:amd64 (5.0-1) ...\n",
            "Selecting previously unselected package libwmflite-0.2-7:amd64.\n",
            "Preparing to unpack .../076-libwmflite-0.2-7_0.2.12-5ubuntu1_amd64.deb ...\n",
            "Unpacking libwmflite-0.2-7:amd64 (0.2.12-5ubuntu1) ...\n",
            "Selecting previously unselected package libgraphicsmagick-q16-3.\n",
            "Preparing to unpack .../077-libgraphicsmagick-q16-3_1.4+really1.3.38-1ubuntu0.1_amd64.deb ...\n",
            "Unpacking libgraphicsmagick-q16-3 (1.4+really1.3.38-1ubuntu0.1) ...\n",
            "Selecting previously unselected package libgraphicsmagick++-q16-12.\n",
            "Preparing to unpack .../078-libgraphicsmagick++-q16-12_1.4+really1.3.38-1ubuntu0.1_amd64.deb ...\n",
            "Unpacking libgraphicsmagick++-q16-12 (1.4+really1.3.38-1ubuntu0.1) ...\n",
            "Selecting previously unselected package libhdf5-openmpi-103-1:amd64.\n",
            "Preparing to unpack .../079-libhdf5-openmpi-103-1_1.10.7+repack-4ubuntu2_amd64.deb ...\n",
            "Unpacking libhdf5-openmpi-103-1:amd64 (1.10.7+repack-4ubuntu2) ...\n",
            "Selecting previously unselected package libhtml-tagset-perl.\n",
            "Preparing to unpack .../080-libhtml-tagset-perl_3.20-4_all.deb ...\n",
            "Unpacking libhtml-tagset-perl (3.20-4) ...\n",
            "Selecting previously unselected package liburi-perl.\n",
            "Preparing to unpack .../081-liburi-perl_5.10-1_all.deb ...\n",
            "Unpacking liburi-perl (5.10-1) ...\n",
            "Selecting previously unselected package libhtml-parser-perl:amd64.\n",
            "Preparing to unpack .../082-libhtml-parser-perl_3.76-1build2_amd64.deb ...\n",
            "Unpacking libhtml-parser-perl:amd64 (3.76-1build2) ...\n",
            "Selecting previously unselected package libio-html-perl.\n",
            "Preparing to unpack .../083-libio-html-perl_1.004-2_all.deb ...\n",
            "Unpacking libio-html-perl (1.004-2) ...\n",
            "Selecting previously unselected package liblwp-mediatypes-perl.\n",
            "Preparing to unpack .../084-liblwp-mediatypes-perl_6.04-1_all.deb ...\n",
            "Unpacking liblwp-mediatypes-perl (6.04-1) ...\n",
            "Selecting previously unselected package libhttp-message-perl.\n",
            "Preparing to unpack .../085-libhttp-message-perl_6.36-1_all.deb ...\n",
            "Unpacking libhttp-message-perl (6.36-1) ...\n",
            "Selecting previously unselected package libhtml-form-perl.\n",
            "Preparing to unpack .../086-libhtml-form-perl_6.07-1_all.deb ...\n",
            "Unpacking libhtml-form-perl (6.07-1) ...\n",
            "Selecting previously unselected package libhtml-tree-perl.\n",
            "Preparing to unpack .../087-libhtml-tree-perl_5.07-2_all.deb ...\n",
            "Unpacking libhtml-tree-perl (5.07-2) ...\n",
            "Selecting previously unselected package libhtml-format-perl.\n",
            "Preparing to unpack .../088-libhtml-format-perl_2.12-1.1_all.deb ...\n",
            "Unpacking libhtml-format-perl (2.12-1.1) ...\n",
            "Selecting previously unselected package libhttp-cookies-perl.\n",
            "Preparing to unpack .../089-libhttp-cookies-perl_6.10-1_all.deb ...\n",
            "Unpacking libhttp-cookies-perl (6.10-1) ...\n",
            "Selecting previously unselected package libhttp-daemon-perl.\n",
            "Preparing to unpack .../090-libhttp-daemon-perl_6.13-1ubuntu0.1_all.deb ...\n",
            "Unpacking libhttp-daemon-perl (6.13-1ubuntu0.1) ...\n",
            "Selecting previously unselected package libhttp-negotiate-perl.\n",
            "Preparing to unpack .../091-libhttp-negotiate-perl_6.01-1_all.deb ...\n",
            "Unpacking libhttp-negotiate-perl (6.01-1) ...\n",
            "Selecting previously unselected package libptscotch-6.1:amd64.\n",
            "Preparing to unpack .../092-libptscotch-6.1_6.1.3-1_amd64.deb ...\n",
            "Unpacking libptscotch-6.1:amd64 (6.1.3-1) ...\n",
            "Selecting previously unselected package libsuperlu-dist7:amd64.\n",
            "Preparing to unpack .../093-libsuperlu-dist7_7.2.0+dfsg1-2_amd64.deb ...\n",
            "Unpacking libsuperlu-dist7:amd64 (7.2.0+dfsg1-2) ...\n",
            "Selecting previously unselected package libhypre-2.22.1:amd64.\n",
            "Preparing to unpack .../094-libhypre-2.22.1_2.22.1-7_amd64.deb ...\n",
            "Unpacking libhypre-2.22.1:amd64 (2.22.1-7) ...\n",
            "Selecting previously unselected package perl-openssl-defaults:amd64.\n",
            "Preparing to unpack .../095-perl-openssl-defaults_5build2_amd64.deb ...\n",
            "Unpacking perl-openssl-defaults:amd64 (5build2) ...\n",
            "Selecting previously unselected package libnet-ssleay-perl:amd64.\n",
            "Preparing to unpack .../096-libnet-ssleay-perl_1.92-1build2_amd64.deb ...\n",
            "Unpacking libnet-ssleay-perl:amd64 (1.92-1build2) ...\n",
            "Selecting previously unselected package libio-socket-ssl-perl.\n",
            "Preparing to unpack .../097-libio-socket-ssl-perl_2.074-2_all.deb ...\n",
            "Unpacking libio-socket-ssl-perl (2.074-2) ...\n",
            "Selecting previously unselected package libklu1:amd64.\n",
            "Preparing to unpack .../098-libklu1_1%3a5.10.1+dfsg-4build1_amd64.deb ...\n",
            "Unpacking libklu1:amd64 (1:5.10.1+dfsg-4build1) ...\n",
            "Selecting previously unselected package libnet-http-perl.\n",
            "Preparing to unpack .../099-libnet-http-perl_6.22-1_all.deb ...\n",
            "Unpacking libnet-http-perl (6.22-1) ...\n",
            "Selecting previously unselected package libtry-tiny-perl.\n",
            "Preparing to unpack .../100-libtry-tiny-perl_0.31-1_all.deb ...\n",
            "Unpacking libtry-tiny-perl (0.31-1) ...\n",
            "Selecting previously unselected package libwww-robotrules-perl.\n",
            "Preparing to unpack .../101-libwww-robotrules-perl_6.02-1_all.deb ...\n",
            "Unpacking libwww-robotrules-perl (6.02-1) ...\n",
            "Selecting previously unselected package libwww-perl.\n",
            "Preparing to unpack .../102-libwww-perl_6.61-1_all.deb ...\n",
            "Unpacking libwww-perl (6.61-1) ...\n",
            "Selecting previously unselected package liblwp-protocol-https-perl.\n",
            "Preparing to unpack .../103-liblwp-protocol-https-perl_6.10-1_all.deb ...\n",
            "Unpacking liblwp-protocol-https-perl (6.10-1) ...\n",
            "Selecting previously unselected package libmagick++-6.q16-8:amd64.\n",
            "Preparing to unpack .../104-libmagick++-6.q16-8_8%3a6.9.11.60+dfsg-1.3ubuntu0.22.04.3_amd64.deb ...\n",
            "Unpacking libmagick++-6.q16-8:amd64 (8:6.9.11.60+dfsg-1.3ubuntu0.22.04.3) ...\n",
            "Selecting previously unselected package libnet-smtp-ssl-perl.\n",
            "Preparing to unpack .../105-libnet-smtp-ssl-perl_1.04-1_all.deb ...\n",
            "Unpacking libnet-smtp-ssl-perl (1.04-1) ...\n",
            "Selecting previously unselected package libmailtools-perl.\n",
            "Preparing to unpack .../106-libmailtools-perl_2.21-1_all.deb ...\n",
            "Unpacking libmailtools-perl (2.21-1) ...\n",
            "Selecting previously unselected package libscalapack-openmpi2.1:amd64.\n",
            "Preparing to unpack .../107-libscalapack-openmpi2.1_2.1.0-4_amd64.deb ...\n",
            "Unpacking libscalapack-openmpi2.1:amd64 (2.1.0-4) ...\n",
            "Selecting previously unselected package libmumps-5.4:amd64.\n",
            "Preparing to unpack .../108-libmumps-5.4_5.4.1-2_amd64.deb ...\n",
            "Unpacking libmumps-5.4:amd64 (5.4.1-2) ...\n",
            "Selecting previously unselected package libscotch-6.1:amd64.\n",
            "Preparing to unpack .../109-libscotch-6.1_6.1.3-1_amd64.deb ...\n",
            "Unpacking libscotch-6.1:amd64 (6.1.3-1) ...\n",
            "Selecting previously unselected package libtrilinos-kokkos-13.2:amd64.\n",
            "Preparing to unpack .../110-libtrilinos-kokkos-13.2_13.2.0-1ubuntu1_amd64.deb ...\n",
            "Unpacking libtrilinos-kokkos-13.2:amd64 (13.2.0-1ubuntu1) ...\n",
            "Selecting previously unselected package libtrilinos-teuchos-13.2:amd64.\n",
            "Preparing to unpack .../111-libtrilinos-teuchos-13.2_13.2.0-1ubuntu1_amd64.deb ...\n",
            "Unpacking libtrilinos-teuchos-13.2:amd64 (13.2.0-1ubuntu1) ...\n",
            "Selecting previously unselected package libtrilinos-epetra-13.2:amd64.\n",
            "Preparing to unpack .../112-libtrilinos-epetra-13.2_13.2.0-1ubuntu1_amd64.deb ...\n",
            "Unpacking libtrilinos-epetra-13.2:amd64 (13.2.0-1ubuntu1) ...\n",
            "Selecting previously unselected package libtrilinos-triutils-13.2:amd64.\n",
            "Preparing to unpack .../113-libtrilinos-triutils-13.2_13.2.0-1ubuntu1_amd64.deb ...\n",
            "Unpacking libtrilinos-triutils-13.2:amd64 (13.2.0-1ubuntu1) ...\n",
            "Selecting previously unselected package libtrilinos-epetraext-13.2:amd64.\n",
            "Preparing to unpack .../114-libtrilinos-epetraext-13.2_13.2.0-1ubuntu1_amd64.deb ...\n",
            "Unpacking libtrilinos-epetraext-13.2:amd64 (13.2.0-1ubuntu1) ...\n",
            "Selecting previously unselected package libtrilinos-trilinosss-13.2:amd64.\n",
            "Preparing to unpack .../115-libtrilinos-trilinosss-13.2_13.2.0-1ubuntu1_amd64.deb ...\n",
            "Unpacking libtrilinos-trilinosss-13.2:amd64 (13.2.0-1ubuntu1) ...\n",
            "Selecting previously unselected package libtrilinos-amesos-13.2:amd64.\n",
            "Preparing to unpack .../116-libtrilinos-amesos-13.2_13.2.0-1ubuntu1_amd64.deb ...\n",
            "Unpacking libtrilinos-amesos-13.2:amd64 (13.2.0-1ubuntu1) ...\n",
            "Selecting previously unselected package libtrilinos-aztecoo-13.2:amd64.\n",
            "Preparing to unpack .../117-libtrilinos-aztecoo-13.2_13.2.0-1ubuntu1_amd64.deb ...\n",
            "Unpacking libtrilinos-aztecoo-13.2:amd64 (13.2.0-1ubuntu1) ...\n",
            "Selecting previously unselected package libtrilinos-galeri-13.2:amd64.\n",
            "Preparing to unpack .../118-libtrilinos-galeri-13.2_13.2.0-1ubuntu1_amd64.deb ...\n",
            "Unpacking libtrilinos-galeri-13.2:amd64 (13.2.0-1ubuntu1) ...\n",
            "Selecting previously unselected package libtrilinos-ifpack-13.2:amd64.\n",
            "Preparing to unpack .../119-libtrilinos-ifpack-13.2_13.2.0-1ubuntu1_amd64.deb ...\n",
            "Unpacking libtrilinos-ifpack-13.2:amd64 (13.2.0-1ubuntu1) ...\n",
            "Selecting previously unselected package libtrilinos-zoltan-13.2:amd64.\n",
            "Preparing to unpack .../120-libtrilinos-zoltan-13.2_13.2.0-1ubuntu1_amd64.deb ...\n",
            "Unpacking libtrilinos-zoltan-13.2:amd64 (13.2.0-1ubuntu1) ...\n",
            "Selecting previously unselected package libtrilinos-ml-13.2:amd64.\n",
            "Preparing to unpack .../121-libtrilinos-ml-13.2_13.2.0-1ubuntu1_amd64.deb ...\n",
            "Unpacking libtrilinos-ml-13.2:amd64 (13.2.0-1ubuntu1) ...\n",
            "Selecting previously unselected package libumfpack5:amd64.\n",
            "Preparing to unpack .../122-libumfpack5_1%3a5.10.1+dfsg-4build1_amd64.deb ...\n",
            "Unpacking libumfpack5:amd64 (1:5.10.1+dfsg-4build1) ...\n",
            "Selecting previously unselected package libpetsc-real3.15:amd64.\n",
            "Preparing to unpack .../123-libpetsc-real3.15_3.15.5+dfsg1-1build2_amd64.deb ...\n",
            "Unpacking libpetsc-real3.15:amd64 (3.15.5+dfsg1-1build2) ...\n",
            "Selecting previously unselected package libplot2c2:amd64.\n",
            "Preparing to unpack .../124-libplot2c2_2.6-11_amd64.deb ...\n",
            "Unpacking libplot2c2:amd64 (2.6-11) ...\n",
            "Selecting previously unselected package libportaudio2:amd64.\n",
            "Preparing to unpack .../125-libportaudio2_19.6.0-1.1_amd64.deb ...\n",
            "Unpacking libportaudio2:amd64 (19.6.0-1.1) ...\n",
            "Selecting previously unselected package libzip4:amd64.\n",
            "Preparing to unpack .../126-libzip4_1.7.3-1ubuntu2_amd64.deb ...\n",
            "Unpacking libzip4:amd64 (1.7.3-1ubuntu2) ...\n",
            "Selecting previously unselected package libpstoedit0c2a:amd64.\n",
            "Preparing to unpack .../127-libpstoedit0c2a_3.78-1_amd64.deb ...\n",
            "Unpacking libpstoedit0c2a:amd64 (3.78-1) ...\n",
            "Selecting previously unselected package libqrupdate1:amd64.\n",
            "Preparing to unpack .../128-libqrupdate1_1.1.2-4_amd64.deb ...\n",
            "Unpacking libqrupdate1:amd64 (1.1.2-4) ...\n",
            "Selecting previously unselected package libqscintilla2-qt5-l10n.\n",
            "Preparing to unpack .../129-libqscintilla2-qt5-l10n_2.11.6+dfsg-4_all.deb ...\n",
            "Unpacking libqscintilla2-qt5-l10n (2.11.6+dfsg-4) ...\n",
            "Selecting previously unselected package libqscintilla2-qt5-15.\n",
            "Preparing to unpack .../130-libqscintilla2-qt5-15_2.11.6+dfsg-4_amd64.deb ...\n",
            "Unpacking libqscintilla2-qt5-15 (2.11.6+dfsg-4) ...\n",
            "Selecting previously unselected package libqt5sql5:amd64.\n",
            "Preparing to unpack .../131-libqt5sql5_5.15.3+dfsg-2ubuntu0.2_amd64.deb ...\n",
            "Unpacking libqt5sql5:amd64 (5.15.3+dfsg-2ubuntu0.2) ...\n",
            "Selecting previously unselected package libqt5help5:amd64.\n",
            "Preparing to unpack .../132-libqt5help5_5.15.3-1_amd64.deb ...\n",
            "Unpacking libqt5help5:amd64 (5.15.3-1) ...\n",
            "Selecting previously unselected package libqt5sql5-sqlite:amd64.\n",
            "Preparing to unpack .../133-libqt5sql5-sqlite_5.15.3+dfsg-2ubuntu0.2_amd64.deb ...\n",
            "Unpacking libqt5sql5-sqlite:amd64 (5.15.3+dfsg-2ubuntu0.2) ...\n",
            "Selecting previously unselected package libqt5xml5:amd64.\n",
            "Preparing to unpack .../134-libqt5xml5_5.15.3+dfsg-2ubuntu0.2_amd64.deb ...\n",
            "Unpacking libqt5xml5:amd64 (5.15.3+dfsg-2ubuntu0.2) ...\n",
            "Selecting previously unselected package libsundials-ida4:amd64.\n",
            "Preparing to unpack .../135-libsundials-ida4_5.8.0+dfsg-1build1_amd64.deb ...\n",
            "Unpacking libsundials-ida4:amd64 (5.8.0+dfsg-1build1) ...\n",
            "Selecting previously unselected package libsundials-nvecparallel-petsc4:amd64.\n",
            "Preparing to unpack .../136-libsundials-nvecparallel-petsc4_5.8.0+dfsg-1build1_amd64.deb ...\n",
            "Unpacking libsundials-nvecparallel-petsc4:amd64 (5.8.0+dfsg-1build1) ...\n",
            "Selecting previously unselected package libsundials-nvecserial4:amd64.\n",
            "Preparing to unpack .../137-libsundials-nvecserial4_5.8.0+dfsg-1build1_amd64.deb ...\n",
            "Unpacking libsundials-nvecserial4:amd64 (5.8.0+dfsg-1build1) ...\n",
            "Selecting previously unselected package libsundials-sunmatrix2:amd64.\n",
            "Preparing to unpack .../138-libsundials-sunmatrix2_5.8.0+dfsg-1build1_amd64.deb ...\n",
            "Unpacking libsundials-sunmatrix2:amd64 (5.8.0+dfsg-1build1) ...\n",
            "Selecting previously unselected package libsundials-sunlinsol2:amd64.\n",
            "Preparing to unpack .../139-libsundials-sunlinsol2_5.8.0+dfsg-1build1_amd64.deb ...\n",
            "Unpacking libsundials-sunlinsol2:amd64 (5.8.0+dfsg-1build1) ...\n",
            "Selecting previously unselected package libtext-unidecode-perl.\n",
            "Preparing to unpack .../140-libtext-unidecode-perl_1.30-1_all.deb ...\n",
            "Unpacking libtext-unidecode-perl (1.30-1) ...\n",
            "Selecting previously unselected package libwacom-bin.\n",
            "Preparing to unpack .../141-libwacom-bin_2.2.0-1_amd64.deb ...\n",
            "Unpacking libwacom-bin (2.2.0-1) ...\n",
            "Selecting previously unselected package libxml-namespacesupport-perl.\n",
            "Preparing to unpack .../142-libxml-namespacesupport-perl_1.12-1.1_all.deb ...\n",
            "Unpacking libxml-namespacesupport-perl (1.12-1.1) ...\n",
            "Selecting previously unselected package libxml-sax-base-perl.\n",
            "Preparing to unpack .../143-libxml-sax-base-perl_1.09-1.1_all.deb ...\n",
            "Unpacking libxml-sax-base-perl (1.09-1.1) ...\n",
            "Selecting previously unselected package libxml-sax-perl.\n",
            "Preparing to unpack .../144-libxml-sax-perl_1.02+dfsg-3_all.deb ...\n",
            "Unpacking libxml-sax-perl (1.02+dfsg-3) ...\n",
            "Selecting previously unselected package libxml-libxml-perl.\n",
            "Preparing to unpack .../145-libxml-libxml-perl_2.0207+dfsg+really+2.0134-1_amd64.deb ...\n",
            "Unpacking libxml-libxml-perl (2.0207+dfsg+really+2.0134-1) ...\n",
            "Selecting previously unselected package libxml-parser-perl:amd64.\n",
            "Preparing to unpack .../146-libxml-parser-perl_2.46-3build1_amd64.deb ...\n",
            "Unpacking libxml-parser-perl:amd64 (2.46-3build1) ...\n",
            "Selecting previously unselected package libxml-sax-expat-perl.\n",
            "Preparing to unpack .../147-libxml-sax-expat-perl_0.51-1_all.deb ...\n",
            "Unpacking libxml-sax-expat-perl (0.51-1) ...\n",
            "Selecting previously unselected package pstoedit.\n",
            "Preparing to unpack .../148-pstoedit_3.78-1_amd64.deb ...\n",
            "Unpacking pstoedit (3.78-1) ...\n",
            "Selecting previously unselected package qt5-gtk-platformtheme:amd64.\n",
            "Preparing to unpack .../149-qt5-gtk-platformtheme_5.15.3+dfsg-2ubuntu0.2_amd64.deb ...\n",
            "Unpacking qt5-gtk-platformtheme:amd64 (5.15.3+dfsg-2ubuntu0.2) ...\n",
            "Selecting previously unselected package qttranslations5-l10n.\n",
            "Preparing to unpack .../150-qttranslations5-l10n_5.15.3-1_all.deb ...\n",
            "Unpacking qttranslations5-l10n (5.15.3-1) ...\n",
            "Selecting previously unselected package texinfo.\n",
            "Preparing to unpack .../151-texinfo_6.8-4build1_amd64.deb ...\n",
            "Unpacking texinfo (6.8-4build1) ...\n",
            "Selecting previously unselected package libauthen-sasl-perl.\n",
            "Preparing to unpack .../152-libauthen-sasl-perl_2.1600-1.1_all.deb ...\n",
            "Unpacking libauthen-sasl-perl (2.1600-1.1) ...\n",
            "Selecting previously unselected package libglu1-mesa:amd64.\n",
            "Preparing to unpack .../153-libglu1-mesa_9.0.2-1_amd64.deb ...\n",
            "Unpacking libglu1-mesa:amd64 (9.0.2-1) ...\n",
            "Selecting previously unselected package octave-common.\n",
            "Preparing to unpack .../154-octave-common_6.4.0-2_all.deb ...\n",
            "Unpacking octave-common (6.4.0-2) ...\n",
            "Selecting previously unselected package octave.\n",
            "Preparing to unpack .../155-octave_6.4.0-2_amd64.deb ...\n",
            "Unpacking octave (6.4.0-2) ...\n",
            "Selecting previously unselected package octave-doc.\n",
            "Preparing to unpack .../156-octave-doc_6.4.0-2_all.deb ...\n",
            "Unpacking octave-doc (6.4.0-2) ...\n",
            "Setting up libplot2c2:amd64 (2.6-11) ...\n",
            "Setting up libportaudio2:amd64 (19.6.0-1.1) ...\n",
            "Setting up libhttp-date-perl (6.05-1) ...\n",
            "Setting up imagemagick-6-common (8:6.9.11.60+dfsg-1.3ubuntu0.22.04.3) ...\n",
            "Setting up libfftw3-single3:amd64 (3.3.8-2ubuntu8) ...\n",
            "Setting up libcombblas1.16.0:amd64 (1.6.2-8) ...\n",
            "Setting up libfile-listing-perl (6.14-1) ...\n",
            "Setting up fonts-noto-mono (20201225-1build1) ...\n",
            "Setting up default-jre-headless (2:1.11-72build2) ...\n",
            "Setting up libwmflite-0.2-7:amd64 (0.2.12-5ubuntu1) ...\n",
            "Setting up libxcb-xinput0:amd64 (1.14-3ubuntu3) ...\n",
            "Setting up libfont-afm-perl (1.20-3) ...\n",
            "Setting up libscalapack-openmpi2.1:amd64 (2.1.0-4) ...\n",
            "Setting up libsundials-nvecserial4:amd64 (5.8.0+dfsg-1build1) ...\n",
            "Setting up libclone-perl (0.45-1build3) ...\n",
            "Setting up libhtml-tagset-perl (3.20-4) ...\n",
            "Setting up libqscintilla2-qt5-l10n (2.11.6+dfsg-4) ...\n",
            "Setting up libzip4:amd64 (1.7.3-1ubuntu2) ...\n",
            "Setting up libijs-0.35:amd64 (0.35-15build2) ...\n",
            "Setting up libauthen-sasl-perl (2.1600-1.1) ...\n",
            "Setting up libfltk1.3:amd64 (1.3.8-4) ...\n",
            "Setting up liblwp-mediatypes-perl (6.04-1) ...\n",
            "Setting up libfltk-gl1.3:amd64 (1.3.8-4) ...\n",
            "Setting up fonts-freefont-otf (20120503-10build1) ...\n",
            "Setting up libxcb-keysyms1:amd64 (0.4.0-1build3) ...\n",
            "Setting up libsundials-ida4:amd64 (5.8.0+dfsg-1build1) ...\n",
            "Setting up libtry-tiny-perl (0.31-1) ...\n",
            "Setting up libptscotch-6.1:amd64 (6.1.3-1) ...\n",
            "Setting up libmumps-5.4:amd64 (5.4.1-2) ...\n",
            "Setting up perl-openssl-defaults:amd64 (5build2) ...\n",
            "Setting up libxml-namespacesupport-perl (1.12-1.1) ...\n",
            "Setting up libfftw3-long3:amd64 (3.3.8-2ubuntu8) ...\n",
            "Setting up libxcb-render-util0:amd64 (0.3.9-1build3) ...\n",
            "Setting up libencode-locale-perl (1.05-1.1) ...\n",
            "Setting up libtrilinos-kokkos-13.2:amd64 (13.2.0-1ubuntu1) ...\n",
            "Setting up libmetis5:amd64 (5.1.0.dfsg-7build2) ...\n",
            "Setting up libxcb-icccm4:amd64 (0.4.1-1.1build2) ...\n",
            "Setting up fonts-urw-base35 (20200910-1) ...\n",
            "Setting up libqrupdate1:amd64 (1.1.2-4) ...\n",
            "Setting up octave-common (6.4.0-2) ...\n",
            "Setting up libbtf1:amd64 (1:5.10.1+dfsg-4build1) ...\n",
            "Setting up libxcb-util1:amd64 (0.4.0-1build2) ...\n",
            "Setting up poppler-data (0.4.11-1) ...\n",
            "Setting up libxcb-xkb1:amd64 (1.14-3ubuntu3) ...\n",
            "Setting up libxcb-image0:amd64 (0.4.0-2) ...\n",
            "Setting up libtrilinos-trilinosss-13.2:amd64 (13.2.0-1ubuntu1) ...\n",
            "Setting up tex-common (6.17) ...\n",
            "update-language: texlive-base not installed and configured, doing nothing!\n",
            "Setting up libxml-sax-base-perl (1.09-1.1) ...\n",
            "Setting up libxcb-xinerama0:amd64 (1.14-3ubuntu3) ...\n",
            "Setting up libtrilinos-teuchos-13.2:amd64 (13.2.0-1ubuntu1) ...\n",
            "Setting up qttranslations5-l10n (5.15.3-1) ...\n",
            "Setting up libdata-dump-perl (1.25-1) ...\n",
            "Setting up libjbig2dec0:amd64 (0.19-3build2) ...\n",
            "Setting up libnotify4:amd64 (0.7.9-3ubuntu5.22.04.1) ...\n",
            "Setting up aglfn (1.7+git20191031.4036a9c-2) ...\n",
            "Setting up gsfonts (1:8.11+urwcyr1.0.7~pre44-4.5) ...\n",
            "Setting up libtrilinos-epetra-13.2:amd64 (13.2.0-1ubuntu1) ...\n",
            "Setting up libxkbcommon-x11-0:amd64 (1.4.0-1) ...\n",
            "Setting up libidn12:amd64 (1.38-4ubuntu1) ...\n",
            "Setting up libio-html-perl (1.004-2) ...\n",
            "Setting up libgraphicsmagick-q16-3 (1.4+really1.3.38-1ubuntu0.1) ...\n",
            "Setting up libqt5core5a:amd64 (5.15.3+dfsg-2ubuntu0.2) ...\n",
            "Setting up libfftw3-double3:amd64 (3.3.8-2ubuntu8) ...\n",
            "Setting up libmtdev1:amd64 (1.1.6-1build4) ...\n",
            "Setting up liblqr-1-0:amd64 (0.4.2-2.1) ...\n",
            "Setting up libtrilinos-aztecoo-13.2:amd64 (13.2.0-1ubuntu1) ...\n",
            "Setting up libqt5dbus5:amd64 (5.15.3+dfsg-2ubuntu0.2) ...\n",
            "Setting up libsuperlu-dist7:amd64 (7.2.0+dfsg1-2) ...\n",
            "Setting up libmd4c0:amd64 (0.4.8-1) ...\n",
            "Setting up liblua5.4-0:amd64 (5.4.4-1) ...\n",
            "Setting up netbase (6.3) ...\n",
            "Setting up libwxbase3.0-0v5:amd64 (3.0.5.1+dfsg-4) ...\n",
            "Setting up libgraphicsmagick++-q16-12 (1.4+really1.3.38-1ubuntu0.1) ...\n",
            "Setting up libcxsparse3:amd64 (1:5.10.1+dfsg-4build1) ...\n",
            "Setting up libglu1-mesa:amd64 (9.0.2-1) ...\n",
            "Setting up fonts-droid-fallback (1:6.0.1r16-1.1build1) ...\n",
            "Setting up libscotch-6.1:amd64 (6.1.3-1) ...\n",
            "Setting up libtext-unidecode-perl (1.30-1) ...\n",
            "Setting up libhypre-2.22.1:amd64 (2.22.1-7) ...\n",
            "Setting up libemf1:amd64 (1.0.13-3) ...\n",
            "Setting up libevdev2:amd64 (1.12.1+dfsg-1) ...\n",
            "Setting up libsuitesparseconfig5:amd64 (1:5.10.1+dfsg-4build1) ...\n",
            "Setting up liburi-perl (5.10-1) ...\n",
            "Setting up info (6.8-4build1) ...\n",
            "update-alternatives: using /usr/bin/info to provide /usr/bin/infobrowser (infobrowser) in auto mode\n",
            "Setting up libgudev-1.0-0:amd64 (1:237-2build1) ...\n",
            "Setting up libtrilinos-triutils-13.2:amd64 (13.2.0-1ubuntu1) ...\n",
            "Setting up libsundials-sunmatrix2:amd64 (5.8.0+dfsg-1build1) ...\n",
            "Setting up libhdf5-openmpi-103-1:amd64 (1.10.7+repack-4ubuntu2) ...\n",
            "Setting up libhttp-message-perl (6.36-1) ...\n",
            "Setting up libwacom-common (2.2.0-1) ...\n",
            "Setting up libnet-ssleay-perl:amd64 (1.92-1build2) ...\n",
            "Setting up libgs9-common (9.55.0~dfsg1-0ubuntu5.7) ...\n",
            "Setting up gnuplot-data (5.4.2+dfsg2-2) ...\n",
            "Setting up libamd2:amd64 (1:5.10.1+dfsg-4build1) ...\n",
            "Setting up libhttp-negotiate-perl (6.01-1) ...\n",
            "Setting up libcolamd2:amd64 (1:5.10.1+dfsg-4build1) ...\n",
            "Setting up libgs9:amd64 (9.55.0~dfsg1-0ubuntu5.7) ...\n",
            "Setting up libhttp-cookies-perl (6.10-1) ...\n",
            "Setting up libwacom9:amd64 (2.2.0-1) ...\n",
            "Setting up libnet-http-perl (6.22-1) ...\n",
            "Setting up libfftw3-mpi3:amd64 (3.3.8-2ubuntu8) ...\n",
            "Setting up ghostscript (9.55.0~dfsg1-0ubuntu5.7) ...\n",
            "Setting up libtrilinos-zoltan-13.2:amd64 (13.2.0-1ubuntu1) ...\n",
            "Setting up octave-doc (6.4.0-2) ...\n",
            "Setting up libxml-sax-perl (1.02+dfsg-3) ...\n",
            "update-perl-sax-parsers: Registering Perl SAX parser XML::SAX::PurePerl with priority 10...\n",
            "update-perl-sax-parsers: Updating overall Perl SAX parser modules info file...\n",
            "\n",
            "Creating config file /etc/perl/XML/SAX/ParserDetails.ini with new version\n",
            "Setting up libwxgtk3.0-gtk3-0v5:amd64 (3.0.5.1+dfsg-4) ...\n",
            "Setting up libqt5network5:amd64 (5.15.3+dfsg-2ubuntu0.2) ...\n",
            "Setting up libinput-bin (1.20.0-1ubuntu0.3) ...\n",
            "Setting up libqt5sql5:amd64 (5.15.3+dfsg-2ubuntu0.2) ...\n",
            "Setting up libcamd2:amd64 (1:5.10.1+dfsg-4build1) ...\n",
            "Setting up libmagickcore-6.q16-6:amd64 (8:6.9.11.60+dfsg-1.3ubuntu0.22.04.3) ...\n",
            "Setting up libqt5xml5:amd64 (5.15.3+dfsg-2ubuntu0.2) ...\n",
            "Setting up epstool (3.09-3) ...\n",
            "Setting up libglpk40:amd64 (5.0-1) ...\n",
            "Setting up libtrilinos-epetraext-13.2:amd64 (13.2.0-1ubuntu1) ...\n",
            "Setting up libxml-libxml-perl (2.0207+dfsg+really+2.0134-1) ...\n",
            "update-perl-sax-parsers: Registering Perl SAX parser XML::LibXML::SAX::Parser with priority 50...\n",
            "update-perl-sax-parsers: Registering Perl SAX parser XML::LibXML::SAX with priority 50...\n",
            "update-perl-sax-parsers: Updating overall Perl SAX parser modules info file...\n",
            "Replacing config file /etc/perl/XML/SAX/ParserDetails.ini with new version\n",
            "Setting up libwacom-bin (2.2.0-1) ...\n",
            "Setting up libwww-robotrules-perl (6.02-1) ...\n",
            "Setting up libtrilinos-galeri-13.2:amd64 (13.2.0-1ubuntu1) ...\n",
            "Setting up libhttp-daemon-perl (6.13-1ubuntu0.1) ...\n",
            "Setting up libklu1:amd64 (1:5.10.1+dfsg-4build1) ...\n",
            "Setting up libccolamd2:amd64 (1:5.10.1+dfsg-4build1) ...\n",
            "Setting up libhtml-parser-perl:amd64 (3.76-1build2) ...\n",
            "Setting up libmagickwand-6.q16-6:amd64 (8:6.9.11.60+dfsg-1.3ubuntu0.22.04.3) ...\n",
            "Setting up libtrilinos-amesos-13.2:amd64 (13.2.0-1ubuntu1) ...\n",
            "Setting up libmagick++-6.q16-8:amd64 (8:6.9.11.60+dfsg-1.3ubuntu0.22.04.3) ...\n",
            "Setting up libcholmod3:amd64 (1:5.10.1+dfsg-4build1) ...\n",
            "Setting up libio-socket-ssl-perl (2.074-2) ...\n",
            "Setting up libhtml-form-perl (6.07-1) ...\n",
            "Setting up libinput10:amd64 (1.20.0-1ubuntu0.3) ...\n",
            "Setting up libqt5sql5-sqlite:amd64 (5.15.3+dfsg-2ubuntu0.2) ...\n",
            "Setting up libpstoedit0c2a:amd64 (3.78-1) ...\n",
            "Setting up libhtml-tree-perl (5.07-2) ...\n",
            "Setting up libqt5gui5:amd64 (5.15.3+dfsg-2ubuntu0.2) ...\n",
            "Setting up libqt5widgets5:amd64 (5.15.3+dfsg-2ubuntu0.2) ...\n",
            "Setting up libhtml-format-perl (2.12-1.1) ...\n",
            "Setting up libqt5help5:amd64 (5.15.3-1) ...\n",
            "Setting up qt5-gtk-platformtheme:amd64 (5.15.3+dfsg-2ubuntu0.2) ...\n",
            "Setting up libqt5printsupport5:amd64 (5.15.3+dfsg-2ubuntu0.2) ...\n",
            "Setting up libumfpack5:amd64 (1:5.10.1+dfsg-4build1) ...\n",
            "Setting up libnet-smtp-ssl-perl (1.04-1) ...\n",
            "Setting up libmailtools-perl (2.21-1) ...\n",
            "Setting up libtrilinos-ifpack-13.2:amd64 (13.2.0-1ubuntu1) ...\n",
            "Setting up texinfo (6.8-4build1) ...\n",
            "Setting up pstoedit (3.78-1) ...\n",
            "Setting up libtrilinos-ml-13.2:amd64 (13.2.0-1ubuntu1) ...\n",
            "Setting up libqt5svg5:amd64 (5.15.3-1) ...\n",
            "Setting up libpetsc-real3.15:amd64 (3.15.5+dfsg1-1build2) ...\n",
            "update-alternatives: using /usr/lib/x86_64-linux-gnu/libpetsc_real.so.3.15.5 to provide /usr/lib/x86_64-linux-gnu/libpetsc.so.3.15 (libpetsc.so.3.15) in auto mode\n",
            "Setting up libqscintilla2-qt5-15 (2.11.6+dfsg-4) ...\n",
            "Setting up gnuplot-qt (5.4.2+dfsg2-2) ...\n",
            "update-alternatives: using /usr/bin/gnuplot-qt to provide /usr/bin/gnuplot (gnuplot) in auto mode\n",
            "Setting up libsundials-nvecparallel-petsc4:amd64 (5.8.0+dfsg-1build1) ...\n",
            "Setting up libsundials-sunlinsol2:amd64 (5.8.0+dfsg-1build1) ...\n",
            "Setting up octave (6.4.0-2) ...\n",
            "Setting up liblwp-protocol-https-perl (6.10-1) ...\n",
            "Setting up libwww-perl (6.61-1) ...\n",
            "Setting up libxml-parser-perl:amd64 (2.46-3build1) ...\n",
            "Setting up libxml-sax-expat-perl (0.51-1) ...\n",
            "update-perl-sax-parsers: Registering Perl SAX parser XML::SAX::Expat with priority 50...\n",
            "update-perl-sax-parsers: Updating overall Perl SAX parser modules info file...\n",
            "Replacing config file /etc/perl/XML/SAX/ParserDetails.ini with new version\n",
            "Processing triggers for install-info (6.8-4build1) ...\n",
            "Processing triggers for fontconfig (2.13.1-4.2ubuntu5) ...\n",
            "Processing triggers for hicolor-icon-theme (0.17-2) ...\n",
            "Processing triggers for libc-bin (2.35-0ubuntu3.4) ...\n",
            "/sbin/ldconfig.real: /usr/local/lib/libtbb.so.12 is not a symbolic link\n",
            "\n",
            "/sbin/ldconfig.real: /usr/local/lib/libtbbmalloc.so.2 is not a symbolic link\n",
            "\n",
            "/sbin/ldconfig.real: /usr/local/lib/libtbbmalloc_proxy.so.2 is not a symbolic link\n",
            "\n",
            "/sbin/ldconfig.real: /usr/local/lib/libtbbbind.so.3 is not a symbolic link\n",
            "\n",
            "/sbin/ldconfig.real: /usr/local/lib/libtbbbind_2_5.so.3 is not a symbolic link\n",
            "\n",
            "/sbin/ldconfig.real: /usr/local/lib/libtbbbind_2_0.so.3 is not a symbolic link\n",
            "\n",
            "Processing triggers for man-db (2.10.2-1) ...\n"
          ]
        }
      ],
      "source": [
        "!apt install octave"
      ]
    },
    {
      "cell_type": "code",
      "source": [
        "!pip install oct2py"
      ],
      "metadata": {
        "id": "Su0Mh-wEz4VM",
        "colab": {
          "base_uri": "https://localhost:8080/"
        },
        "outputId": "379c846b-bd93-42f4-b0d3-c13fd6470405"
      },
      "execution_count": null,
      "outputs": [
        {
          "output_type": "stream",
          "name": "stdout",
          "text": [
            "Collecting oct2py\n",
            "  Downloading oct2py-5.6.0-py3-none-any.whl (45 kB)\n",
            "\u001b[?25l     \u001b[90m━━━━━━━━━━━━━━━━━━━━━━━━━━━━━━━━━━━━━━━━\u001b[0m \u001b[32m0.0/45.7 kB\u001b[0m \u001b[31m?\u001b[0m eta \u001b[36m-:--:--\u001b[0m\r\u001b[2K     \u001b[90m━━━━━━━━━━━━━━━━━━━━━━━━━━━━━━━━━━━━━━━━\u001b[0m \u001b[32m45.7/45.7 kB\u001b[0m \u001b[31m1.6 MB/s\u001b[0m eta \u001b[36m0:00:00\u001b[0m\n",
            "\u001b[?25hRequirement already satisfied: numpy>=1.12 in /usr/local/lib/python3.10/dist-packages (from oct2py) (1.23.5)\n",
            "Collecting octave-kernel>=0.34.0 (from oct2py)\n",
            "  Downloading octave_kernel-0.35.1-py3-none-any.whl (35 kB)\n",
            "Requirement already satisfied: scipy>=0.17 in /usr/local/lib/python3.10/dist-packages (from oct2py) (1.11.4)\n",
            "Requirement already satisfied: ipykernel in /usr/local/lib/python3.10/dist-packages (from octave-kernel>=0.34.0->oct2py) (5.5.6)\n",
            "Requirement already satisfied: jupyter-client>=4.3.0 in /usr/local/lib/python3.10/dist-packages (from octave-kernel>=0.34.0->oct2py) (6.1.12)\n",
            "Collecting metakernel>=0.24.0 (from octave-kernel>=0.34.0->oct2py)\n",
            "  Downloading metakernel-0.30.1-py3-none-any.whl (217 kB)\n",
            "\u001b[2K     \u001b[90m━━━━━━━━━━━━━━━━━━━━━━━━━━━━━━━━━━━━━━━━\u001b[0m \u001b[32m217.8/217.8 kB\u001b[0m \u001b[31m8.4 MB/s\u001b[0m eta \u001b[36m0:00:00\u001b[0m\n",
            "\u001b[?25hRequirement already satisfied: traitlets in /usr/local/lib/python3.10/dist-packages (from jupyter-client>=4.3.0->octave-kernel>=0.34.0->oct2py) (5.7.1)\n",
            "Requirement already satisfied: jupyter-core>=4.6.0 in /usr/local/lib/python3.10/dist-packages (from jupyter-client>=4.3.0->octave-kernel>=0.34.0->oct2py) (5.7.1)\n",
            "Requirement already satisfied: pyzmq>=13 in /usr/local/lib/python3.10/dist-packages (from jupyter-client>=4.3.0->octave-kernel>=0.34.0->oct2py) (23.2.1)\n",
            "Requirement already satisfied: python-dateutil>=2.1 in /usr/local/lib/python3.10/dist-packages (from jupyter-client>=4.3.0->octave-kernel>=0.34.0->oct2py) (2.8.2)\n",
            "Requirement already satisfied: tornado>=4.1 in /usr/local/lib/python3.10/dist-packages (from jupyter-client>=4.3.0->octave-kernel>=0.34.0->oct2py) (6.3.2)\n",
            "Collecting jedi>=0.18 (from metakernel>=0.24.0->octave-kernel>=0.34.0->oct2py)\n",
            "  Downloading jedi-0.19.1-py2.py3-none-any.whl (1.6 MB)\n",
            "\u001b[2K     \u001b[90m━━━━━━━━━━━━━━━━━━━━━━━━━━━━━━━━━━━━━━━━\u001b[0m \u001b[32m1.6/1.6 MB\u001b[0m \u001b[31m33.1 MB/s\u001b[0m eta \u001b[36m0:00:00\u001b[0m\n",
            "\u001b[?25hRequirement already satisfied: pexpect>=4.8 in /usr/local/lib/python3.10/dist-packages (from metakernel>=0.24.0->octave-kernel>=0.34.0->oct2py) (4.9.0)\n",
            "Requirement already satisfied: ipython-genutils in /usr/local/lib/python3.10/dist-packages (from ipykernel->octave-kernel>=0.34.0->oct2py) (0.2.0)\n",
            "Requirement already satisfied: ipython>=5.0.0 in /usr/local/lib/python3.10/dist-packages (from ipykernel->octave-kernel>=0.34.0->oct2py) (7.34.0)\n",
            "Requirement already satisfied: setuptools>=18.5 in /usr/local/lib/python3.10/dist-packages (from ipython>=5.0.0->ipykernel->octave-kernel>=0.34.0->oct2py) (67.7.2)\n",
            "Requirement already satisfied: decorator in /usr/local/lib/python3.10/dist-packages (from ipython>=5.0.0->ipykernel->octave-kernel>=0.34.0->oct2py) (4.4.2)\n",
            "Requirement already satisfied: pickleshare in /usr/local/lib/python3.10/dist-packages (from ipython>=5.0.0->ipykernel->octave-kernel>=0.34.0->oct2py) (0.7.5)\n",
            "Requirement already satisfied: prompt-toolkit!=3.0.0,!=3.0.1,<3.1.0,>=2.0.0 in /usr/local/lib/python3.10/dist-packages (from ipython>=5.0.0->ipykernel->octave-kernel>=0.34.0->oct2py) (3.0.43)\n",
            "Requirement already satisfied: pygments in /usr/local/lib/python3.10/dist-packages (from ipython>=5.0.0->ipykernel->octave-kernel>=0.34.0->oct2py) (2.16.1)\n",
            "Requirement already satisfied: backcall in /usr/local/lib/python3.10/dist-packages (from ipython>=5.0.0->ipykernel->octave-kernel>=0.34.0->oct2py) (0.2.0)\n",
            "Requirement already satisfied: matplotlib-inline in /usr/local/lib/python3.10/dist-packages (from ipython>=5.0.0->ipykernel->octave-kernel>=0.34.0->oct2py) (0.1.6)\n",
            "Requirement already satisfied: parso<0.9.0,>=0.8.3 in /usr/local/lib/python3.10/dist-packages (from jedi>=0.18->metakernel>=0.24.0->octave-kernel>=0.34.0->oct2py) (0.8.3)\n",
            "Requirement already satisfied: platformdirs>=2.5 in /usr/local/lib/python3.10/dist-packages (from jupyter-core>=4.6.0->jupyter-client>=4.3.0->octave-kernel>=0.34.0->oct2py) (4.2.0)\n",
            "Requirement already satisfied: ptyprocess>=0.5 in /usr/local/lib/python3.10/dist-packages (from pexpect>=4.8->metakernel>=0.24.0->octave-kernel>=0.34.0->oct2py) (0.7.0)\n",
            "Requirement already satisfied: six>=1.5 in /usr/local/lib/python3.10/dist-packages (from python-dateutil>=2.1->jupyter-client>=4.3.0->octave-kernel>=0.34.0->oct2py) (1.16.0)\n",
            "Requirement already satisfied: wcwidth in /usr/local/lib/python3.10/dist-packages (from prompt-toolkit!=3.0.0,!=3.0.1,<3.1.0,>=2.0.0->ipython>=5.0.0->ipykernel->octave-kernel>=0.34.0->oct2py) (0.2.13)\n",
            "Installing collected packages: jedi, metakernel, octave-kernel, oct2py\n",
            "Successfully installed jedi-0.19.1 metakernel-0.30.1 oct2py-5.6.0 octave-kernel-0.35.1\n"
          ]
        }
      ]
    },
    {
      "cell_type": "code",
      "source": [
        "%load_ext oct2py.ipython"
      ],
      "metadata": {
        "id": "EbNdUds2E39h"
      },
      "execution_count": null,
      "outputs": []
    },
    {
      "cell_type": "markdown",
      "source": [
        "# MAIN PROGRAM\n",
        "\n"
      ],
      "metadata": {
        "id": "yE8qioOfLZnD"
      }
    },
    {
      "cell_type": "markdown",
      "source": [
        "## 0. PROGRAM's BRIEF DESCRIPTION"
      ],
      "metadata": {
        "id": "emSJfHDZFkll"
      }
    },
    {
      "cell_type": "code",
      "source": [
        "%%octave\n",
        "\n",
        "%%%%%%%%%%%%%%%%%%%%%%%%%%%%%%%%%%%%%%%%%%%%%%%%%%%%%%%%%%%%%%\n",
        "% Program to perform data assimilation on the\n",
        "% Lorenz equations\n",
        "%\n",
        "%\n",
        "%  (c) 2002  Data Assimilation Research Centre\n",
        "%\n",
        "%  Original program by Matthew Martin\n",
        "%\n",
        "%  Change history:\n",
        "%      Changes to make code more robust and add further options\n",
        "%                       (Amos Lawless)\n",
        "%      23/01/03 Change to position windows correctly for any screen\n",
        "%               resolution (Amos Lawless)\n",
        "%      16/07/04 Change to initial conditions and run time\n",
        "%\n",
        "%  Structure of program:\n",
        "%    1. Inputs\n",
        "%    2. `True' solution\n",
        "%    3. Background solution\n",
        "%    4. Observations\n",
        "%    5. Covariance matrices\n",
        "%    6. Assimilation\n",
        "%    7. Plot results.\n",
        "%\n",
        "%  List of main variables\n",
        "%    h:          Time step for Runge-Kutta scheme\n",
        "%    s:          sigma coefficient in equations\n",
        "%    r:          rho coefficient in equations\n",
        "%    b:          beta coefficient in equations\n",
        "%\n",
        "%    fmax:       Total time of assimilation + forecast\n",
        "%    ob_f:       Frequency of observations in time steps\n",
        "%    q:          x-axis data values for plots\n",
        "%    sd:         Variance of observation error\n",
        "%    tmax:       Total time of assimilation\n",
        "%\n",
        "%    R(3,3):     Observation error covariance matrix\n",
        "%    B(3,3):     Background error covariance matrix\n",
        "%    Qx(3,3,fmax): Model error covariance matrix for Kalman Filter\n",
        "%                  (default constant in time)\n",
        "%\n",
        "%    x(fmax,1), y(fmax,1), z(fmax,1):\n",
        "%                True state vectors of x,y,z\n",
        "%    xb(fmax,1), yb(fmax,1), zb(fmax,1):\n",
        "%                Background state vectors of x,y,z\n",
        "%    xob(tmax), yob(tmax), zob(tmax)\n",
        "%                Observations of x,y,z\n",
        "%\n",
        "%    x_ob(3,tmax): [xob';yob';zob']\n",
        "%    x_sc(3,fmax): Analysis and forecast from SC scheme, with first\n",
        "%                  index representing x, y or z variable\n",
        "%    x_ac(3,fmax): Analysis and forecast from AC scheme, with first\n",
        "%                  index representing x, y or z variable\n",
        "%    x_oi(3,fmax): Analysis and forecast from OI scheme, with first\n",
        "%                  index representing x, y or z variable\n",
        "%    x_kf(3,fmax): Analysis and forecast from Kalman Filter, with first\n",
        "%                  index representing x, y or z variable\n",
        "%\n",
        "%%%%%%%%%%%%%%%%%%%%%%%%%%%%%%%%%%%%%%%%%%%%%%%%%%%%%%%%%%%%%%\n",
        "\n"
      ],
      "metadata": {
        "id": "9HpgUAWU0-Ot"
      },
      "execution_count": null,
      "outputs": []
    },
    {
      "cell_type": "markdown",
      "source": [
        "## 1. INPUTS"
      ],
      "metadata": {
        "id": "mIYDfN2UA5Xh"
      }
    },
    {
      "cell_type": "code",
      "source": [
        "%%octave\n",
        "\n",
        "%---------------------------------------------------------------------\n",
        "%%%%%%%%%%1.  INPUTS\n",
        "%---------------------------------------------------------------------\n",
        "\n",
        "%----- Please choose an assimilation scheme -----\n",
        "%      1) Successive correction\n",
        "%      2) Optimal Interpolation\n",
        "%      3) Analysis Correction\n",
        "%      4) Kalman Filter\n",
        "%      Select a menu number:\n",
        "l_assim = 4;\n",
        "l_assim=l_assim-1;\n",
        "\n",
        "if (l_assim==0 | l_assim==2)\n",
        "  %----- How many iterations? -----\n",
        "  %      1\n",
        "  %      2\n",
        "  %      3\n",
        "  %      4\n",
        "  %      5\n",
        "  n_its = 4\n",
        "end\n",
        "if l_assim~=0\n",
        "\n",
        "%----- Use correct weighting matrices? -----\n",
        "%      1) No\n",
        "%      2) Yes\n",
        "   l_weight = 2;\n",
        "   l_weight=l_weight-1;\n",
        "end\n",
        "fmax=1000;\t%time of assimilation + forecast\n",
        "q=0:0.01:fmax*0.01-0.01;"
      ],
      "metadata": {
        "id": "XZiEmKcTLToq"
      },
      "execution_count": null,
      "outputs": []
    },
    {
      "cell_type": "markdown",
      "source": [
        "## 2. TRUE SOLUTION\n",
        "### True solution of lorenz equations using 2nd order Runge-Kutta method"
      ],
      "metadata": {
        "id": "OZ33hAOVBD-F"
      }
    },
    {
      "cell_type": "code",
      "source": [
        "%%octave\n",
        "\n",
        "%-------------------------------------------------------------------------\n",
        "%%%%%%%%%2.  TRUE SOLUTION\n",
        "%-------------------------------------------------------------------------\n",
        "%true solution of lorenz equations using 2nd order Runge-Kutta method\n",
        "x=zeros(fmax,1);\n",
        "y=zeros(fmax,1);\n",
        "z=zeros(fmax,1);"
      ],
      "metadata": {
        "id": "bmr1e2-Q7Clz"
      },
      "execution_count": null,
      "outputs": []
    },
    {
      "cell_type": "markdown",
      "source": [
        "### parameters"
      ],
      "metadata": {
        "id": "bGlX8KlFBn1k"
      }
    },
    {
      "cell_type": "code",
      "source": [
        "%%octave\n",
        "\n",
        "%parameters\n",
        "h=0.01;    % time step for Runge-Kutta scheme\n",
        "s=10.0;    % sigma\n",
        "r=28;      % rho\n",
        "b=8/3;     % beta"
      ],
      "metadata": {
        "id": "eXP_2ayaBTWc"
      },
      "execution_count": null,
      "outputs": []
    },
    {
      "cell_type": "markdown",
      "source": [
        "### initial contidions"
      ],
      "metadata": {
        "id": "CK6XUeR2Bwqk"
      }
    },
    {
      "cell_type": "code",
      "source": [
        "%%octave\n",
        "\n",
        "%initial conditions\n",
        "x(1)=-5.4458d0;\n",
        "y(1)=-5.4841d0;\n",
        "z(1)=22.5606d0;\n",
        "\n",
        "for i=1:fmax-1\n",
        "k1x(i)=s*y(i)-s*x(i);\n",
        "k1y(i)=r*x(i)-y(i)-x(i)*z(i);\n",
        "k1z(i)=x(i)*y(i)-b*z(i);\n",
        "\n",
        "k2x(i)=s*(y(i)+h*k1y(i))-s*(x(i)+h*k1x(i));\n",
        "k2y(i)=r*(x(i)+h*k1x(i))-(y(i)+h*k1y(i))-(x(i)+h*k1x(i))*(z(i)+h*k1z(i));\n",
        "k2z(i)=(x(i)+h*k1x(i))*(y(i)+h*k1y(i))-b*(z(i)+h*k1z(i));\n",
        "\n",
        "x(i+1)=x(i)+0.5*h*(k1x(i)+k2x(i));\n",
        "y(i+1)=y(i)+0.5*h*(k1y(i)+k2y(i));\n",
        "z(i+1)=z(i)+0.5*h*(k1z(i)+k2z(i));\n",
        "\n",
        "end\n",
        "disp(['*   done true solution'])"
      ],
      "metadata": {
        "id": "eGauO1ooBshO",
        "colab": {
          "base_uri": "https://localhost:8080/",
          "height": 34
        },
        "outputId": "94ea4725-dfaf-45f1-f7de-ac56ad8f072f"
      },
      "execution_count": null,
      "outputs": [
        {
          "output_type": "display_data",
          "data": {
            "text/plain": [
              "*   done true solution"
            ]
          },
          "metadata": {}
        }
      ]
    },
    {
      "cell_type": "markdown",
      "source": [
        "### Plot true solution of x"
      ],
      "metadata": {
        "id": "Iniw4SxLB4pl"
      }
    },
    {
      "cell_type": "code",
      "source": [
        "%%octave\n",
        "\n",
        "%Plot true solution of x\n",
        "h1=figure(1);\n",
        "clf;\n",
        "plot(q,x,'k--');\n",
        "legend(\"Truth\")\n",
        "xlabel(\"Time\")\n",
        "ylabel(\"x\")\n",
        "title(\"Solution for x\")\n",
        "hold on"
      ],
      "metadata": {
        "id": "eiP4BAus7SKN",
        "colab": {
          "base_uri": "https://localhost:8080/",
          "height": 454
        },
        "outputId": "6e97b4a0-e962-4bb3-addd-56f3d79d5722"
      },
      "execution_count": null,
      "outputs": [
        {
          "output_type": "display_data",
          "data": {
            "text/plain": [
              "ans = -17.239"
            ]
          },
          "metadata": {}
        },
        {
          "output_type": "display_data",
          "data": {
            "image/png": "[encoded data removed]",
            "text/plain": [
              "<IPython.core.display.Image object>"
            ]
          },
          "metadata": {}
        }
      ]
    },
    {
      "cell_type": "markdown",
      "source": [
        "### Plot true solution of z"
      ],
      "metadata": {
        "id": "HFX7s8z-CBRG"
      }
    },
    {
      "cell_type": "code",
      "source": [
        "%%octave\n",
        "\n",
        "h2=figure(2);\n",
        "clf;\n",
        "plot(q,z,'k--');\n",
        "legend(\"Truth\")\n",
        "xlabel(\"Time\")\n",
        "ylabel(\"z\")\n",
        "title('Solution for z')\n",
        "hold on"
      ],
      "metadata": {
        "id": "VEmxyEFX8eyR",
        "colab": {
          "base_uri": "https://localhost:8080/",
          "height": 454
        },
        "outputId": "276360df-7657-4a69-b6d8-36a94ec31a07"
      },
      "execution_count": null,
      "outputs": [
        {
          "output_type": "display_data",
          "data": {
            "text/plain": [
              "ans = -17.457"
            ]
          },
          "metadata": {}
        },
        {
          "output_type": "display_data",
          "data": {
            "image/png": "[encoded data removed]",
            "text/plain": [
              "<IPython.core.display.Image object>"
            ]
          },
          "metadata": {}
        }
      ]
    },
    {
      "cell_type": "markdown",
      "source": [
        "## 3. BACKGROUND SOLUTION\n",
        "### Produce a background solution which starts from some perturbed initial conditions"
      ],
      "metadata": {
        "id": "e1lUNJMbCG87"
      }
    },
    {
      "cell_type": "code",
      "source": [
        "%%octave\n",
        "\n",
        "%-----------------------------------------------------------------------\n",
        "%%%%%%%%%3.  BACKGROUND SOLUTION\n",
        "%-----------------------------------------------------------------------\n",
        "%Produce a background solution which starts from some perturbed initial\n",
        "%conditions.\n",
        "\n",
        "xb=zeros(fmax,1);\n",
        "yb=zeros(fmax,1);\n",
        "zb=zeros(fmax,1);"
      ],
      "metadata": {
        "id": "Q32Bz58r7d8K"
      },
      "execution_count": null,
      "outputs": []
    },
    {
      "cell_type": "markdown",
      "source": [
        "### Background solution initial condition"
      ],
      "metadata": {
        "id": "Ixn-ri7YDJ1j"
      }
    },
    {
      "cell_type": "code",
      "source": [
        "%%octave\n",
        "\n",
        "%initial conditions\n",
        "%x(1)=-5.4458d0;\n",
        "%y(1)=-5.4841d0;\n",
        "%z(1)=22.5606d0;\n",
        "\n",
        "%Background solution initial conditions\n",
        "%bg_noise=randn(3,1);\n",
        "%xb(1)=x(1)+bg_noise(1)*2.0d0;\n",
        "%yb(1)=y(1)+bg_noise(2)*2.0d0;\n",
        "%zb(1)=z(1)+bg_noise(3)*2.0d0;\n",
        "xb(1)=-5.9d0;\n",
        "yb(1)=-5.0d0;\n",
        "zb(1)=24.0d0;"
      ],
      "metadata": {
        "id": "KKDuSi3XDDY7"
      },
      "execution_count": null,
      "outputs": []
    },
    {
      "cell_type": "markdown",
      "source": [
        "### Loop over time"
      ],
      "metadata": {
        "id": "Me3ZlKoRDjiT"
      }
    },
    {
      "cell_type": "code",
      "source": [
        "%%octave\n",
        "\n",
        "%start loop over time\n",
        "for i=1:fmax-1\n",
        "\n",
        "k1xb(i)=s*yb(i)-s*xb(i);\n",
        "k1yb(i)=r*xb(i)-yb(i)-xb(i)*zb(i);\n",
        "k1zb(i)=xb(i)*yb(i)-b*zb(i);\n",
        "\n",
        "k2xb(i)=s*(yb(i)+h*k1yb(i))-s*(xb(i)+h*k1xb(i));\n",
        "k2yb(i)=r*(xb(i)+h*k1xb(i))-(yb(i)+h*k1yb(i))-(xb(i)+h*k1xb(i))...\n",
        "*(zb(i)+h*k1zb(i));\n",
        "k2zb(i)=(xb(i)+h*k1xb(i))*(yb(i)+h*k1yb(i))-b*(zb(i)+h*k1zb(i));\n",
        "\n",
        "xb(i+1)=xb(i)+0.5*h*(k1xb(i)+k2xb(i));\n",
        "yb(i+1)=yb(i)+0.5*h*(k1yb(i)+k2yb(i));\n",
        "zb(i+1)=zb(i)+0.5*h*(k1zb(i)+k2zb(i));\n",
        "\n",
        "end\n",
        "%end loop over time\n",
        "disp(['*   done background solution'])"
      ],
      "metadata": {
        "id": "Q4yG11TWDbuS",
        "colab": {
          "base_uri": "https://localhost:8080/",
          "height": 34
        },
        "outputId": "7e098bd7-f946-4c21-b7f9-3ec2054cc16a"
      },
      "execution_count": null,
      "outputs": [
        {
          "output_type": "display_data",
          "data": {
            "text/plain": [
              "*   done background solution"
            ]
          },
          "metadata": {}
        }
      ]
    },
    {
      "cell_type": "markdown",
      "source": [
        "### Plot background solution"
      ],
      "metadata": {
        "id": "HKutT7p1ESh8"
      }
    },
    {
      "cell_type": "code",
      "source": [
        "%%octave\n",
        "\n",
        "%Plot background solution\n",
        "figure(h1)\n",
        "plot(q,x,'k--');\n",
        "hold on\n",
        "plot(q,xb,'b-.');\n",
        "legend(\"Truth\",\"Background\")\n",
        "hold on"
      ],
      "metadata": {
        "id": "YgPQ6H7eEEfK",
        "colab": {
          "base_uri": "https://localhost:8080/",
          "height": 454
        },
        "outputId": "e197daa0-21bd-4faf-87b2-0dec9bc41f5f"
      },
      "execution_count": null,
      "outputs": [
        {
          "output_type": "display_data",
          "data": {
            "text/plain": [
              "ans = -16.114"
            ]
          },
          "metadata": {}
        },
        {
          "output_type": "display_data",
          "data": {
            "image/png": "[encoded data removed]",
            "text/plain": [
              "<IPython.core.display.Image object>"
            ]
          },
          "metadata": {}
        }
      ]
    },
    {
      "cell_type": "code",
      "source": [
        "%%octave\n",
        "figure(h2)\n",
        "plot(q,z,'k--');\n",
        "hold on\n",
        "plot(q,zb,'b-.');\n",
        "legend(\"Truth\",\"Background\")\n",
        "hold on\n",
        "\n"
      ],
      "metadata": {
        "id": "0_H0bBL9G6pP",
        "colab": {
          "base_uri": "https://localhost:8080/",
          "height": 454
        },
        "outputId": "c2b41835-c3a6-4c55-925c-0dee3dd65f6a"
      },
      "execution_count": null,
      "outputs": [
        {
          "output_type": "display_data",
          "data": {
            "text/plain": [
              "ans = -16.126"
            ]
          },
          "metadata": {}
        },
        {
          "output_type": "display_data",
          "data": {
            "image/png": "[encoded data removed]",
            "text/plain": [
              "<IPython.core.display.Image object>"
            ]
          },
          "metadata": {}
        }
      ]
    },
    {
      "cell_type": "markdown",
      "source": [
        "## 4. OBSERVATIONS"
      ],
      "metadata": {
        "id": "X2bPqh7MEh2c"
      }
    },
    {
      "cell_type": "markdown",
      "source": [
        "### Choose number of time steps between observations"
      ],
      "metadata": {
        "id": "apQJBpVywEew"
      }
    },
    {
      "cell_type": "code",
      "source": [
        "%%octave\n",
        "\n",
        "%-----------------------------------------------------------------------------------\n",
        "%%%%%%%4  OBSERVATIONS\n",
        "%-----------------------------------------------------------------------------------\n",
        "\n",
        "%----- How many time steps between observations? -----\n",
        "%      25\n",
        "%      50\n",
        "%      100\n",
        "%      200\n",
        "ob_f=25;\n",
        "\n",
        "%----- Noise on observations? -----\n",
        "%      1) No\n",
        "%      2) Yes\n",
        "% Select a menu number:\n",
        "l_noise=2;\n",
        "l_noise=l_noise-1;\n",
        "tmax=600+ob_f; %time of assimilation (janela de assimilação)"
      ],
      "metadata": {
        "id": "zx4ipHYUEcaj",
        "colab": {
          "base_uri": "https://localhost:8080/",
          "height": 69
        },
        "outputId": "808c6ba5-d842-49f8-aa0c-336ed91a531c"
      },
      "execution_count": null,
      "outputs": [
        {
          "output_type": "display_data",
          "data": {
            "text/plain": [
              "warning: load: can not read multi-byte encoded UTF8 characters; replacing unreadable characters with '?'"
            ]
          },
          "metadata": {}
        },
        {
          "output_type": "display_data",
          "data": {
            "text/plain": [
              "warning: called from"
            ]
          },
          "metadata": {}
        },
        {
          "output_type": "display_data",
          "data": {
            "text/plain": [
              "    _pyeval at line 28 column 9"
            ]
          },
          "metadata": {}
        },
        {
          "output_type": "display_data",
          "data": {
            "text/plain": []
          },
          "metadata": {}
        }
      ]
    },
    {
      "cell_type": "markdown",
      "source": [
        "### The observations are calculated from the true solution at certain points with noise added."
      ],
      "metadata": {
        "id": "-uKbAaNWwlKQ"
      }
    },
    {
      "cell_type": "code",
      "source": [
        "%%octave\n",
        "\n",
        "%The observations are calculated from the true solution at certain\n",
        "%points with noise added.\n",
        "\n",
        "xob=zeros(tmax,1);\n",
        "yob=zeros(tmax,1);\n",
        "zob=zeros(tmax,1);\n",
        "\n",
        "nobs=tmax/ob_f;\t%number of observations\n",
        "vec=1:ob_f:tmax;\n",
        "\n",
        "if l_noise==1\n",
        "  l_read_noise=1;\n",
        "  l_read_noise=l_read_noise-1;\n",
        "  if (l_read_noise==0)\n",
        "    sc_x_noise=randn(nobs,1);\n",
        "    sc_y_noise=randn(nobs,1);\n",
        "    sc_z_noise=randn(nobs,1);\n",
        "    save ('noise.mat','sc_x_noise','sc_y_noise','sc_z_noise');\n",
        "  elseif (l_read_noise==1)\n",
        "    load('noise.mat','sc_x_noise','sc_y_noise','sc_z_noise');\n",
        "  else\n",
        "    error('Invalid input')\n",
        "  end\n",
        "  sd=0.1;\n",
        "  var=sqrt(sd);\n",
        "  RX=var*sc_x_noise;\n",
        "  RY=var*sc_y_noise;\n",
        "  RZ=var*sc_z_noise;\n",
        "else\n",
        "  for i=1:nobs;\n",
        "    RX(i)=0.0;\n",
        "    RY(i)=0.0;\n",
        "    RZ(i)=0.0;\n",
        "  end\n",
        "end\n",
        "\n",
        "j=1;\n",
        "for i=vec\n",
        "xob(i)=x(i)+RX(j);\n",
        "yob(i)=y(i)+RY(j);\n",
        "zob(i)=z(i)+RZ(j);\n",
        "j=j+1;\n",
        "end\n",
        "disp(['*   done observations'])\n",
        "\n"
      ],
      "metadata": {
        "id": "8KhPtHnXwV-q",
        "colab": {
          "base_uri": "https://localhost:8080/",
          "height": 34
        },
        "outputId": "4c158d24-3823-4a10-94d0-62be7ee79aa0"
      },
      "execution_count": null,
      "outputs": [
        {
          "output_type": "display_data",
          "data": {
            "text/plain": [
              "*   done observations"
            ]
          },
          "metadata": {}
        }
      ]
    },
    {
      "cell_type": "markdown",
      "source": [
        "### Plot x observations"
      ],
      "metadata": {
        "id": "m1-TAPgJ7INl"
      }
    },
    {
      "cell_type": "code",
      "source": [
        "%%octave\n",
        "\n",
        "%Plot x observations\n",
        "v=0.01*vec;\n",
        "figure(h1)\n",
        "plot(q,x,'k--');\n",
        "hold on\n",
        "plot(q,xb,'b-.');\n",
        "plot(v(2:nobs),xob(vec(2:nobs)),'om');\n",
        "legend(\"Truth\",\"Background\",\"Observations\")\n",
        "hold on\n",
        "\n"
      ],
      "metadata": {
        "id": "LMuSMG9533bF",
        "colab": {
          "base_uri": "https://localhost:8080/",
          "height": 454
        },
        "outputId": "7aa29980-929c-414d-eb2e-c323eb5ea240"
      },
      "execution_count": null,
      "outputs": [
        {
          "output_type": "display_data",
          "data": {
            "text/plain": [
              "ans = -15.110"
            ]
          },
          "metadata": {}
        },
        {
          "output_type": "display_data",
          "data": {
            "image/png": "[encoded data removed]",
            "text/plain": [
              "<IPython.core.display.Image object>"
            ]
          },
          "metadata": {}
        }
      ]
    },
    {
      "cell_type": "markdown",
      "source": [
        "### Plot z observations"
      ],
      "metadata": {
        "id": "YHKwdGUn7qb-"
      }
    },
    {
      "cell_type": "code",
      "source": [
        "%%octave\n",
        "\n",
        "figure(h2)\n",
        "plot(q,z,'k--');\n",
        "hold on\n",
        "plot(q,zb,'b-.');\n",
        "plot(v(2:nobs),zob(vec(2:nobs)),'om');\n",
        "legend(\"Truth\",\"Background\",\"Observations\")\n",
        "hold on\n",
        "\n"
      ],
      "metadata": {
        "id": "hb4lbcBm7P10",
        "colab": {
          "base_uri": "https://localhost:8080/",
          "height": 454
        },
        "outputId": "5b59fe6b-9834-4214-8e29-25cb11905d6e"
      },
      "execution_count": null,
      "outputs": [
        {
          "output_type": "display_data",
          "data": {
            "text/plain": [
              "ans = -15.516"
            ]
          },
          "metadata": {}
        },
        {
          "output_type": "display_data",
          "data": {
            "image/png": "[encoded data removed]",
            "text/plain": [
              "<IPython.core.display.Image object>"
            ]
          },
          "metadata": {}
        }
      ]
    },
    {
      "cell_type": "markdown",
      "source": [
        "## 5. ERROR COVARIANCE MATRICES"
      ],
      "metadata": {
        "id": "8uGTh48s7aVz"
      }
    },
    {
      "cell_type": "code",
      "source": [
        "%%octave\n",
        "\n",
        "%-----------------------------------------------------------------------------------\n",
        "%%%%%%%5.  ERROR COVARIANCE MATRICES\n",
        "%-----------------------------------------------------------------------------------\n",
        "% l_test=menu_asl('Click to perform analysis','OK');\n",
        "if l_assim~=0\n",
        "\n",
        "BX=zeros(3,3);\n",
        "BXi=zeros(3,3,tmax);\n",
        "R=zeros(3,3);\n",
        "Ri=zeros(3,3,nobs);\n",
        "\n",
        "%Observation error covariance matrix, R.\n",
        "%Calculated to be the average errors over time between\n",
        "%the observations and true solution at the observation points.\n",
        "R=zeros(3,3);\n",
        "  for i=vec\n",
        "    Ri(1,1,i)=(x(i)-xob(i))'*(x(i)-xob(i));\n",
        "    Ri(1,2,i)=(x(i)-xob(i))'*(y(i)-yob(i));\n",
        "    Ri(1,3,i)=(x(i)-xob(i))'*(z(i)-zob(i));\n",
        "    Ri(2,1,i)=(y(i)-yob(i))'*(x(i)-xob(i));\n",
        "    Ri(2,2,i)=(y(i)-yob(i))'*(y(i)-yob(i));\n",
        "    Ri(2,3,i)=(y(i)-yob(i))'*(z(i)-zob(i));\n",
        "    Ri(3,1,i)=(z(i)-zob(i))'*(x(i)-xob(i));\n",
        "    Ri(3,2,i)=(z(i)-zob(i))'*(y(i)-yob(i));\n",
        "    Ri(3,3,i)=(z(i)-zob(i))'*(z(i)-zob(i));\n",
        "  end\n",
        "\n",
        "if l_weight==1\n",
        "  Rj=zeros(3,3,nobs);\n",
        "  for j=1:3\n",
        "    for k=1:3\n",
        "      Rj(j,k,:)=Ri(j,k,vec);\n",
        "      R(j,k)=(1/nobs)*sum(Rj(j,k,:));\n",
        "    end\n",
        "  end\n",
        "else\n",
        "  R=eye(3,3);  % Set to identity matrix for l_weight==0\n",
        "end\n",
        "\n",
        "%Background error covariance matrix.\n",
        "%Calculated to be the average errors over time between the\n",
        "%background and true solutions.\n",
        "B=zeros(3,3);\n",
        "if l_weight==1\n",
        "  for i=1:tmax\n",
        "    BXi(1,1,i)=(x(i)-xb(i))'*(x(i)-xb(i));\n",
        "    BXi(1,2,i)=(x(i)-xb(i))'*(y(i)-yb(i));\n",
        "    BXi(1,3,i)=(x(i)-xb(i))'*(z(i)-zb(i));\n",
        "    BXi(2,1,i)=(y(i)-yb(i))'*(x(i)-xb(i));\n",
        "    BXi(2,2,i)=(y(i)-yb(i))'*(y(i)-yb(i));\n",
        "    BXi(2,3,i)=(y(i)-yb(i))'*(z(i)-zb(i));\n",
        "    BXi(3,1,i)=(z(i)-zb(i))'*(x(i)-xb(i));\n",
        "    BXi(3,2,i)=(z(i)-zb(i))'*(y(i)-yb(i));\n",
        "    BXi(3,3,i)=(z(i)-zb(i))'*(z(i)-zb(i));\n",
        "  end\n",
        "  for j=1:3\n",
        "    for k=1:3\n",
        "      BX(j,k)=(1/tmax)*sum(BXi(j,k,:));\n",
        "    end\n",
        "  end\n",
        "else\n",
        "  BX=eye(3,3);  % Set to identity matrix for l_weight==0\n",
        "end  % l_weight==1\n",
        "\n",
        "end  % l_assim~=0"
      ],
      "metadata": {
        "id": "3KcRxVr97jok"
      },
      "execution_count": null,
      "outputs": []
    },
    {
      "cell_type": "markdown",
      "source": [
        "### 6. DATA ASSIMILATION"
      ],
      "metadata": {
        "id": "iEyiPjj7eK9u"
      }
    },
    {
      "cell_type": "code",
      "source": [
        "%%octave\n",
        "\n",
        "%-----------------------------------------------------------------------------------\n",
        "%%%%%%%%%%6.  DATA ASSIMILATION\n",
        "%-----------------------------------------------------------------------------------\n",
        "\n",
        "\n",
        "if l_assim==0\n",
        "%%%%%%%%%%%%%%%%%% SUCCESSIVE CORRECTIONS %%%%%%%%%%%%%%%%%%%%%%%%%%%%%%%%%%%%%%%\n",
        "disp('Performing successive correction analysis')\n",
        "assim_str='Successive correction';\n",
        "x_ob=zeros(3,fmax);\n",
        "x_sc=zeros(3,fmax);\n",
        "WX=zeros(3,3);\n",
        "\n",
        "%state weighting matrix\n",
        "WX=0.5*eye(3,3);\n",
        "\n",
        "%forecast at the initial time is the background there.\n",
        "xfc(1)=xb(1);\n",
        "yfc(1)=yb(1);\n",
        "zfc(1)=zb(1);\n",
        "\n",
        "x_ob=[xob';yob';zob'];\n",
        "x_sc(:,1)=[xb(1);yb(1);zb(1)];\n",
        "\n",
        "\n",
        "%Start Loop over time\n",
        "for i=1:fmax-1\n",
        "\n",
        "  if i>=tmax\n",
        "    x_ob(:,i+1)=0;\n",
        "  end\n",
        "\n",
        "%Forecast to time step i+1\n",
        "  xfc(i)=x_sc(1,i);\n",
        "  yfc(i)=x_sc(2,i);\n",
        "  zfc(i)=x_sc(3,i);\n",
        "\n",
        "  k1xfc(i)=s*yfc(i)-s*xfc(i);\n",
        "  k1yfc(i)=r*xfc(i)-yfc(i)-xfc(i)*zfc(i);\n",
        "  k1zfc(i)=xfc(i)*yfc(i)-b*zfc(i);\n",
        "\n",
        "  k2xfc(i)=s*(yfc(i)+h*k1yfc(i))-s*(xfc(i)+h*k1xfc(i));\n",
        "  k2yfc(i)=r*(xfc(i)+h*k1xfc(i))-(yfc(i)+h*k1yfc(i))-(xfc(i)+h*k1xfc(i))...\n",
        "  *(zfc(i)+h*k1zfc(i));\n",
        "  k2zfc(i)=(xfc(i)+h*k1xfc(i))*(yfc(i)+h*k1yfc(i))-b*(zfc(i)+h*k1zfc(i));\n",
        "\n",
        "  xfc(i+1)=xfc(i)+0.5*h*(k1xfc(i)+k2xfc(i));\n",
        "  yfc(i+1)=yfc(i)+0.5*h*(k1yfc(i)+k2yfc(i));\n",
        "  zfc(i+1)=zfc(i)+0.5*h*(k1zfc(i)+k2zfc(i));\n",
        "\n",
        "%If there is an observation then produce an analysis\n",
        "  if x_ob(:,i+1)~=0\n",
        "    x_sc(:,i+1)=[xfc(i+1);yfc(i+1);zfc(i+1)];\n",
        "\n",
        "    for j=1:n_its\n",
        "      x_sc(:,i+1)=x_sc(:,i+1)+WX*(x_ob(:,i+1)-x_sc(:,i+1));\n",
        "    end\n",
        "\n",
        "  else\n",
        "\n",
        "    x_sc(:,i+1)=[xfc(i+1);yfc(i+1);zfc(i+1)];\n",
        "\n",
        "  end\n",
        "end\n",
        "\n",
        "\n",
        "\n",
        "elseif l_assim==1\n",
        "%%%%%%%%%%%%%%%%%% OPTIMAL INTERPOLATION %%%%%%%%%%%%%%%%%%%%%%%%%%%%%%%%%%%%%%%\n",
        "disp('Performing OI analysis')\n",
        "assim_str='Optimal interpolation';\n",
        "\n",
        "x_ob=zeros(3,fmax);\n",
        "x_oi=zeros(3,fmax);\n",
        "WX=zeros(3,3);\n",
        "\n",
        "xfc(1)=xb(1);\n",
        "yfc(1)=yb(1);\n",
        "zfc(1)=zb(1);\n",
        "\n",
        "%state weighting matrix\n",
        "WX=BX*pinv(BX+R);\n",
        "\n",
        "x_ob=[xob';yob';zob'];\n",
        "x_oi(:,1)=[xb(1);yb(1);zb(1)];\n",
        "\n",
        "%Start loop over time\n",
        "for i=1:fmax-1\n",
        "\n",
        "  if i>=tmax\n",
        "    x_ob(:,i+1)=0;\n",
        "  end\n",
        "\n",
        "%Forecast to time step i+1\n",
        "  xfc(i)=x_oi(1,i);\n",
        "  yfc(i)=x_oi(2,i);\n",
        "  zfc(i)=x_oi(3,i);\n",
        "\n",
        "  k1xfc(i)=s*yfc(i)-s*xfc(i);\n",
        "  k1yfc(i)=r*xfc(i)-yfc(i)-xfc(i)*zfc(i);\n",
        "  k1zfc(i)=xfc(i)*yfc(i)-b*zfc(i);\n",
        "\n",
        "  k2xfc(i)=s*(yfc(i)+h*k1yfc(i))-s*(xfc(i)+h*k1xfc(i));\n",
        "  k2yfc(i)=r*(xfc(i)+h*k1xfc(i))-(yfc(i)+h*k1yfc(i))-(xfc(i)+h*k1xfc(i))...\n",
        "  *(zfc(i)+h*k1zfc(i));\n",
        "  k2zfc(i)=(xfc(i)+h*k1xfc(i))*(yfc(i)+h*k1yfc(i))-b*(zfc(i)+h*k1zfc(i));\n",
        "\n",
        "  xfc(i+1)=xfc(i)+0.5*h*(k1xfc(i)+k2xfc(i));\n",
        "  yfc(i+1)=yfc(i)+0.5*h*(k1yfc(i)+k2yfc(i));\n",
        "  zfc(i+1)=zfc(i)+0.5*h*(k1zfc(i)+k2zfc(i));\n",
        "\n",
        "%If there is an observation then produce analysis\n",
        "  if x_ob(:,i+1)~=0\n",
        "\n",
        "    x_oi(:,i+1)=[xfc(i+1);yfc(i+1);zfc(i+1)];\n",
        "    x_oi(:,i+1)=x_oi(:,i+1)+WX*(x_ob(:,i+1)-x_oi(:,i+1));\n",
        "\n",
        "  else\n",
        "\n",
        "    x_oi(:,i+1)=[xfc(i+1);yfc(i+1);zfc(i+1)];\n",
        "\n",
        "  end\n",
        "end\n",
        "\n",
        "elseif l_assim==2\n",
        "%%%%%%%%%%%%%%%%%%%%%%%%%% ANALYSIS CORRECTION %%%%%%%%%%%%%%%%%%%%%%%%%%%%%%%%%%%%%%%%%%%%%%\n",
        "disp('Performing AC analysis')\n",
        "assim_str='Analysis correction';\n",
        "\n",
        "if l_noise==0\n",
        "  R=eye(3,3);\n",
        "end\n",
        "x_ob=zeros(3,fmax);\n",
        "x_ac=zeros(3,fmax);\n",
        "y_ac=zeros(3,fmax);\n",
        "\n",
        "WX=zeros(3,3); %=BXR^{-1}\n",
        "QX=zeros(3,3); %=(WX+I)^{-1}\n",
        "\n",
        "xfc(1)=xb(1);\n",
        "yfc(1)=yb(1);\n",
        "zfc(1)=zb(1);\n",
        "\n",
        "%state weighting matrix\n",
        "WX=BX*pinv(R)\n",
        "QX=pinv(WX+eye(3,3))\n",
        "\n",
        "x_ob=[xob';yob';zob'];\n",
        "x_ac(:,1)=[xb(1);yb(1);zb(1)];\n",
        "y_ac(:,1)=x_ob(:,1);\n",
        "\n",
        "%Start loop over time\n",
        "for i=1:fmax-1\n",
        "\n",
        "  if i>=tmax\n",
        "    x_ob(:,i+1)=0;\n",
        "  end\n",
        "\n",
        "%Forecast to time step i+1\n",
        "  xfc(i)=x_ac(1,i);\n",
        "  yfc(i)=x_ac(2,i);\n",
        "  zfc(i)=x_ac(3,i);\n",
        "\n",
        "  k1xfc(i)=s*yfc(i)-s*xfc(i);\n",
        "  k1yfc(i)=r*xfc(i)-yfc(i)-xfc(i)*zfc(i);\n",
        "  k1zfc(i)=xfc(i)*yfc(i)-b*zfc(i);\n",
        "\n",
        "  k2xfc(i)=s*(yfc(i)+h*k1yfc(i))-s*(xfc(i)+h*k1xfc(i));\n",
        "  k2yfc(i)=r*(xfc(i)+h*k1xfc(i))-(yfc(i)+h*k1yfc(i))-(xfc(i)+h*k1xfc(i))...\n",
        "  *(zfc(i)+h*k1zfc(i));\n",
        "  k2zfc(i)=(xfc(i)+h*k1xfc(i))*(yfc(i)+h*k1yfc(i))-b*(zfc(i)+h*k1zfc(i));\n",
        "\n",
        "  xfc(i+1)=xfc(i)+0.5*h*(k1xfc(i)+k2xfc(i));\n",
        "  yfc(i+1)=yfc(i)+0.5*h*(k1yfc(i)+k2yfc(i));\n",
        "  zfc(i+1)=zfc(i)+0.5*h*(k1zfc(i)+k2zfc(i));\n",
        "\n",
        "%If there is an observation then produce an analysis\n",
        "  if x_ob(:,i+1)~=0\n",
        "    x_ac(:,i+1)=[xfc(i+1);yfc(i+1);zfc(i+1)];\n",
        "    y_ac(:,i+1)=x_ob(:,i+1);\n",
        "\n",
        "    for j=1:n_its\n",
        "      x_ac(:,i+1)=x_ac(:,i+1)+WX*QX*(y_ac(:,i+1)-x_ac(:,i+1));\n",
        "      y_ac(:,i+1)=y_ac(:,i+1)-QX*(y_ac(:,i+1)-x_ac(:,i+1));\n",
        "    end\n",
        "\n",
        "  else\n",
        "\n",
        "    x_ac(:,i+1)=[xfc(i+1);yfc(i+1);zfc(i+1)];\n",
        "\n",
        "  end\n",
        "end\n",
        "%End loop over time\n",
        "\n",
        "elseif l_assim==3\n",
        "%%%%%%%%%%%%%%%%%%%%%%%%%% KALMAN FILTER %%%%%%%%%%%%%%%%%%%%%%%%%%%%%%%%%%%%%%%%%%%%%%\n",
        "disp('Performing kalman filter analysis')\n",
        "assim_str='Kalman filter';\n",
        "\n",
        "KX=zeros(3,3,fmax);\n",
        "Pfx=zeros(3,3,fmax);\n",
        "Pax=zeros(3,3,fmax);\n",
        "xfc=zeros(tmax);\n",
        "yfc=zeros(tmax);\n",
        "zfc=zeros(tmax);\n",
        "x_kf=zeros(3,fmax);\n",
        "x_fc=zeros(3,fmax);\n",
        "x_ob=zeros(3,fmax);\n",
        "Mx=zeros(3,3,fmax);\n",
        "Qx=zeros(3,3,fmax);\n",
        "\n",
        "%put obs into one array\n",
        "x_ob=[xob';yob';zob'];\n",
        "\n",
        "%set forecast at i=1 to be the background guess there\n",
        "xfc(1)=xb(1);\n",
        "yfc(1)=yb(1);\n",
        "zfc(1)=zb(1);\n",
        "\n",
        "%put forecast values into one array\n",
        "x_fc(:,1)=[xb(1);yb(1);zb(1)];\n",
        "\n",
        "\n",
        "if l_weight==1\n",
        "%forecast error covariance at i=1 is the background error\n",
        "%covariance there\n",
        "  Pfx(:,:,1)=BXi(:,:,1);\n",
        "else\n",
        "%begin with some incorrect guess\n",
        "  Pfx(:,:,1)=eye(3);\n",
        "end\n",
        "\n",
        "%calculate the gain matrix at i=1\n",
        "KX(:,:,1)=Pfx(:,:,1)*pinv(Pfx(:,:,1)+Ri(:,:,1));\n",
        "\n",
        "x_kf(:,1)=x_fc(:,1);\n",
        "\n",
        "%calculate analysis error covariance matrix at i=1\n",
        "Pax(:,:,1)=(eye(3,3)-KX(:,:,1))*Pfx(:,:,1);\n",
        "\n",
        "\n",
        "for i=1:fmax-1\n",
        "  if i>=tmax\n",
        "    x_ob(:,i+1)=0;\n",
        "  end\n",
        "\n",
        "  xfc(i)=x_kf(1,i);\n",
        "  yfc(i)=x_kf(2,i);\n",
        "  zfc(i)=x_kf(3,i);\n",
        "\n",
        "%tangent-linear model - linearised about the forecast state\n",
        "  Mx(1,1,i)=1.0-(h*s)+(((h*h*s)/2.0)*(r+s-zfc(i)));\n",
        "  Mx(1,2,i)=h*s-(((h*h*s)/2.0)*(1.0+s));\n",
        "  Mx(1,3,i)=-(h*h*s*xfc(i))/2.0;\n",
        "  Mx(2,1,i)=(h*(r-zfc(i)))+(((h*h)/2.0)*(zfc(i)-(r*s)-r+(b*zfc(i))...\n",
        "  +(s*zfc(i))-(2.0*xfc(i)*yfc(i))))+(((h*h*h*s)/2.0)*((b*zfc(i))-...\n",
        "  (yfc(i)*yfc(i))+(2.0*xfc(i)*yfc(i))));\n",
        "  Mx(2,2,i)=1.0-h+(((h*h)/2.0)*((s*r)+1.0-(xfc(i)*xfc(i))-(s*zfc(i))))...\n",
        "  +(((h*h*h*s)/2.0)*((b*zfc(i))-(2.0*xfc(i)*yfc(i))+(xfc(i)*xfc(i))));\n",
        "  Mx(2,3,i)=(-h*xfc(i))+(((h*h)/2.0)*(xfc(i)+(b*xfc(i))-(s*yfc(i))+...\n",
        "  (s*xfc(i))))+(((h*h*h*s*b)/2.0)*(yfc(i)+xfc(i)));\n",
        "  Mx(3,1,i)=(h*yfc(i))+(((h*h)/2.0)*((2.0*r*xfc(i))-yfc(i)-(2.0*xfc(i)...\n",
        "  *zfc(i))-(s*yfc(i))-(b*yfc(i))))+(((h*h*h*s)/2.0)*((r*yfc(i))-(yfc(i)...\n",
        "  *zfc(i))-(2.0*r*xfc(i))+yfc(i)+(2.0*xfc(i)*zfc(i))));\n",
        "  Mx(3,2,i)=(h*xfc(i))+(((h*h)/2.0)*((s*yfc(i))-xfc(i)-(s*xfc(i))-...\n",
        "  (b*xfc(i))))+(((h*h*h*s)/2.0)*((r*xfc(i))-(2.0*yfc(i))-(xfc(i)*zfc(i))...\n",
        "  +xfc(i)));\n",
        "  Mx(3,3,i)=1.0-(h*b)+(((h*h)/2.0)*((b*b)-(xfc(i)*xfc(i))))+...\n",
        "  (((h*h*h*s)/2.0)*((xfc(i)*xfc(i))-(xfc(i)*yfc(i))));\n",
        "\n",
        "%Choose something for the model error covariance matrix.\n",
        "%These are from Evensen, 1997.\n",
        "  Qx(1,1,i)=0.1491;\n",
        "  Qx(1,2,i)=0.1505;\n",
        "  Qx(1,3,i)=0.0007;\n",
        "  Qx(2,1,i)=0.1505;\n",
        "  Qx(2,2,i)=0.9048;\n",
        "  Qx(2,3,i)=0.0014;\n",
        "  Qx(3,1,i)=0.0007;\n",
        "  Qx(3,2,i)=0.0014;\n",
        "  Qx(3,3,i)=0.9180;\n",
        "\n",
        "%forecast the state\n",
        "  k1xfc(i)=s*yfc(i)-s*xfc(i);\n",
        "  k1yfc(i)=r*xfc(i)-yfc(i)-xfc(i)*zfc(i);\n",
        "  k1zfc(i)=xfc(i)*yfc(i)-b*zfc(i);\n",
        "\n",
        "  k2xfc(i)=s*(yfc(i)+h*k1yfc(i))-s*(xfc(i)+h*k1xfc(i));\n",
        "  k2yfc(i)=r*(xfc(i)+h*k1xfc(i))-(yfc(i)+h*k1yfc(i))-(xfc(i)+h*k1xfc(i))...\n",
        "  *(zfc(i)+h*k1zfc(i));\n",
        "  k2zfc(i)=(xfc(i)+h*k1xfc(i))*(yfc(i)+h*k1yfc(i))-b*(zfc(i)+h*k1zfc(i));\n",
        "\n",
        "  xfc(i+1)=xfc(i)+0.5*h*(k1xfc(i)+k2xfc(i));\n",
        "  yfc(i+1)=yfc(i)+0.5*h*(k1yfc(i)+k2yfc(i));\n",
        "  zfc(i+1)=zfc(i)+0.5*h*(k1zfc(i)+k2zfc(i));\n",
        "\n",
        "  x_fc(:,i+1)=[xfc(i+1);yfc(i+1);zfc(i+1)];\n",
        "\n",
        "%forecast error covariance matrix\n",
        "  Pfx(:,:,i+1)=Mx(:,:,i)*Pax(:,:,i)*Mx(:,:,i)'+Qx(:,:,i);\n",
        "\n",
        "%If there is an observation at this time\n",
        "  if x_ob(:,i+1)~=0\n",
        "\n",
        "%calculate the gain matrices\n",
        "    KX(:,:,i+1)=Pfx(:,:,i+1)*pinv(Pfx(:,:,i+1)+Ri(:,:,i+1));\n",
        "\n",
        "%produce an analysis\n",
        "    x_kf(:,i+1)=x_fc(:,i+1)+KX(:,:,i+1)*(x_ob(:,i+1)-x_fc(:,i+1));\n",
        "\n",
        "%calculate analysis error covariance matrices\n",
        "    Pax(:,:,i+1)=(eye(3,3)-KX(:,:,i+1))*Pfx(:,:,i+1);\n",
        "\n",
        "  else\n",
        "\n",
        "    x_kf(:,i+1)=x_fc(:,i+1);\n",
        "    Pax(:,:,i+1)=Pfx(:,:,i+1);\n",
        "\n",
        "  end\n",
        "\n",
        "end\n",
        "%End loop over time\n",
        "\n",
        "end\n",
        "%End if on type of assimilation\n",
        "\n",
        "disp(['***  FINISHED  ***'])"
      ],
      "metadata": {
        "id": "UNUdvYKneCbe",
        "colab": {
          "base_uri": "https://localhost:8080/",
          "height": 52
        },
        "outputId": "51b90efa-0414-41e7-a441-30be6cb6cbf1"
      },
      "execution_count": null,
      "outputs": [
        {
          "output_type": "display_data",
          "data": {
            "text/plain": [
              "Performing kalman filter analysis"
            ]
          },
          "metadata": {}
        },
        {
          "output_type": "display_data",
          "data": {
            "text/plain": [
              "***  FINISHED  ***"
            ]
          },
          "metadata": {}
        }
      ]
    },
    {
      "cell_type": "markdown",
      "source": [
        "## 7. PLOT RESULTS"
      ],
      "metadata": {
        "id": "nyNs4Q-O2Qry"
      }
    },
    {
      "cell_type": "markdown",
      "source": [
        "### Plot analysed solution of x"
      ],
      "metadata": {
        "id": "yASAkISp2a89"
      }
    },
    {
      "cell_type": "code",
      "source": [
        "%%octave\n",
        "\n",
        "%-----------------------------------------------------------------------\n",
        "%%%%%%%%%%7.  PLOT RESULTS\n",
        "%-----------------------------------------------------------------------\n",
        "\n",
        "%Plot analysed solution of x\n",
        "figure(h1)\n",
        "plot(q,x,'k--');\n",
        "hold on\n",
        "plot(q,xb,'b-.');\n",
        "plot(v(2:nobs),xob(vec(2:nobs)),'om');\n",
        "if l_assim==0\n",
        "  plot(q,x_sc(1,:),'r-');\n",
        "elseif l_assim==1\n",
        "  plot(q,x_oi(1,:),'r-');\n",
        "elseif l_assim==2\n",
        "  plot(q,x_ac(1,:),'r-');\n",
        "elseif l_assim==3\n",
        "  plot(q,x_kf(1,:),'r-');\n",
        "end\n",
        "legend(\"Truth\",\"Background\",\"Observations\",\"Analysis\")\n",
        "yminmax=get(gca,'YLim');\n",
        "yspace=(yminmax(2)-yminmax(1))*0.01;\n",
        "yvals=yminmax(1):yspace:yminmax(2);\n",
        "xval=(tmax-ob_f)*h;\n",
        "%%line(xval,yvals,'LineStyle',':','Color','k')\n",
        "hold on\n",
        "print -dpng -r240 x_results.png;"
      ],
      "metadata": {
        "id": "5baYdWyl2M-K",
        "colab": {
          "base_uri": "https://localhost:8080/",
          "height": 454
        },
        "outputId": "de2eb9ee-96cc-49bd-984d-8dca33f95118"
      },
      "execution_count": null,
      "outputs": [
        {
          "output_type": "display_data",
          "data": {
            "text/plain": [
              "ans = -14.313"
            ]
          },
          "metadata": {}
        },
        {
          "output_type": "display_data",
          "data": {
            "image/png": "[encoded data removed]",
            "text/plain": [
              "<IPython.core.display.Image object>"
            ]
          },
          "metadata": {}
        }
      ]
    },
    {
      "cell_type": "markdown",
      "source": [
        "### Plot analysed solution of Z"
      ],
      "metadata": {
        "id": "ltN_czPf2nXJ"
      }
    },
    {
      "cell_type": "code",
      "source": [
        "%%octave\n",
        "\n",
        "figure(h2);\n",
        "plot(q,z,'k--');\n",
        "hold on\n",
        "plot(q,zb,'b-.');\n",
        "plot(v(2:nobs),zob(vec(2:nobs)),'om');\n",
        "%Plot analysed solution of z\n",
        "if l_assim==0\n",
        "  plot(q,x_sc(3,:),'r-');\n",
        "elseif l_assim==1\n",
        "  plot(q,x_oi(3,:),'r-');\n",
        "elseif l_assim==2\n",
        "  plot(q,x_ac(3,:),'r-');\n",
        "elseif l_assim==3\n",
        "  plot(q,x_kf(3,:),'r-');\n",
        "end\n",
        "legend(\"Truth\",\"Background\",\"Observations\",\"Analysis\")\n",
        "yminmax=get(gca,'YLim');\n",
        "yspace=(yminmax(2)-yminmax(1))*0.01;\n",
        "yvals=yminmax(1):yspace:yminmax(2);\n",
        "xval=(tmax-ob_f)*h;\n",
        "%line(xval,yvals,'LineStyle',':','Color','k')\n",
        "hold on"
      ],
      "metadata": {
        "id": "65TQqQLl2kV6",
        "colab": {
          "base_uri": "https://localhost:8080/",
          "height": 454
        },
        "outputId": "80637ce4-2a4d-44ff-d01d-08f75ba2e448"
      },
      "execution_count": null,
      "outputs": [
        {
          "output_type": "display_data",
          "data": {
            "text/plain": [
              "ans = -14.590"
            ]
          },
          "metadata": {}
        },
        {
          "output_type": "display_data",
          "data": {
            "image/png": "[encoded data removed]",
            "text/plain": [
              "<IPython.core.display.Image object>"
            ]
          },
          "metadata": {}
        }
      ]
    },
    {
      "cell_type": "markdown",
      "source": [
        "## **Ploting Error**"
      ],
      "metadata": {
        "id": "tS_b6MDs29RO"
      }
    },
    {
      "cell_type": "code",
      "source": [
        "%%octave\n",
        "\n",
        "if l_assim==0\n",
        "  x_err = x'-x_sc(1,:);\n",
        "  z_err = z'-x_sc(3,:);\n",
        "elseif l_assim==1\n",
        "  x_err = x'-x_oi(1,:);\n",
        "  z_err = z'-x_oi(3,:);\n",
        "elseif l_assim==2\n",
        "  x_err = x'-x_ac(1,:);\n",
        "  z_err = z'-x_ac(3,:);\n",
        "elseif l_assim==3\n",
        "  x_err = x'-x_kf(1,:);\n",
        "  z_err = z'-x_kf(3,:);\n",
        "end\n",
        "%save\n",
        "h3=figure(3);\n",
        "clf;\n",
        "subplot(2,1,1)\n",
        "plot(q,x_err,'k-');\n",
        "xlabel('Time');ylabel('Error')\n",
        "title('Plot of error (Truth-Analysis) in x against time')\n",
        "yminmax=get(gca,'YLim');\n",
        "yspace=(yminmax(2)-yminmax(1))*0.01;\n",
        "yvals=yminmax(1):yspace:yminmax(2);\n",
        "%%line(xval,yvals,'LineStyle',':','Color','k')\n",
        "%\n",
        "subplot(2,1,2)\n",
        "plot(q,z_err,'k-')\n",
        "xlabel('Time');ylabel('Error')\n",
        "title('Plot of error (Truth-Analysis) in z against time')\n",
        "yminmax=get(gca,'YLim');\n",
        "yspace=(yminmax(2)-yminmax(1))*0.01;\n",
        "yvals=yminmax(1):yspace:yminmax(2);\n",
        "%%line(xval,yvals,'LineStyle',':','Color','k')\n",
        "\n",
        "%imagename=strcat(\"varq_error_\",assim_str,\"_\",num2str(n_its),\".png\");\n",
        "%disp(imagename);\n",
        "%print(imagename)\n"
      ],
      "metadata": {
        "id": "9HksltdQ27Je",
        "colab": {
          "base_uri": "https://localhost:8080/",
          "height": 437
        },
        "outputId": "c2928624-9f12-48ca-edca-0eb92b13c5dd"
      },
      "execution_count": null,
      "outputs": [
        {
          "output_type": "display_data",
          "data": {
            "image/png": "[encoded data removed]",
            "text/plain": [
              "<IPython.core.display.Image object>"
            ]
          },
          "metadata": {}
        }
      ]
    },
    {
      "cell_type": "code",
      "source": [],
      "metadata": {
        "id": "ylHruRKHTJz9"
      },
      "execution_count": null,
      "outputs": []
    },
    {
      "cell_type": "markdown",
      "source": [
        "### Write out options chosen"
      ],
      "metadata": {
        "id": "txQqnLrk3gOx"
      }
    },
    {
      "cell_type": "code",
      "source": [
        "%%octave\n",
        "\n",
        "% Determine screen size and set up figure positions\n",
        "ss=get(0,'ScreenSize');\n",
        "fig_width=0.55*ss(3);\n",
        "fig_height=0.4*ss(4);\n",
        "pos_1=[0.02*ss(3),0.55*ss(4),fig_width,fig_height];\n",
        "pos_2=[0.02*ss(3),0.05*ss(4),fig_width,fig_height];\n",
        "pos_3=[0.6*ss(3),0.45*ss(4),0.4*ss(3),0.45*ss(4)];\n",
        "pl=0.6*ss(3);\n",
        "pb=0.05*ss(4);\n",
        "pw=0.3*ss(3);\n",
        "ph=0.3*ss(4);\n",
        "pos_4=[pl,pb,pw,ph];\n",
        "pos_5=[0.02*pw,0.8*ph,0.95*pw,0.2*ph];\n",
        "pos_6=[0.02*pw,0.02*ph,0.95*pw,0.75*ph];"
      ],
      "metadata": {
        "id": "gy_T7rtwvqpp"
      },
      "execution_count": null,
      "outputs": []
    },
    {
      "cell_type": "code",
      "source": [
        "%%octave\n",
        "%\n",
        "%-----------------------------------------------------------------------\n",
        "% Write out options chosen\n",
        "%\n",
        "text1={'List of options chosen'};\n",
        "text2={['Analysis scheme: ' assim_str]};\n",
        "if (l_assim==0 | l_assim==2)\n",
        "  text3={['Number of iterations: ' num2str(n_its)]};\n",
        "else\n",
        "  text3='';\n",
        "end\n",
        "if l_assim~0\n",
        "  if l_weight==0\n",
        "    text4={['Using incorrect weighting matrices']};\n",
        "  else\n",
        "    text4={['Using correct weighting matrices']};\n",
        "  end\n",
        "else\n",
        "  text4='';\n",
        "end\n",
        "text5={['Time steps between observations: ' num2str(ob_f)]};\n",
        "if l_noise==0\n",
        "  text6={['No noise on observations']};\n",
        "  text7='';\n",
        "else\n",
        "  text6={['Observations have random noise with variance ' num2str(sd)]};\n",
        "  if l_read_noise==0\n",
        "    text7={['Noise generated in program and saved to file']};\n",
        "  else\n",
        "    text7={['Noise read in from previously generated file']};\n",
        "  end\n",
        "end\n",
        "%\n",
        "str1=[text2;text3;text4;text5;text6;text7];\n",
        "disp(str1)\n",
        "\n",
        "%%%%%%%%%%  END OF PROGRAM  %%%%%%%%%%\n"
      ],
      "metadata": {
        "id": "vUWy5LRa3arh",
        "colab": {
          "base_uri": "https://localhost:8080/",
          "height": 156
        },
        "outputId": "73b4490b-8d00-42e8-aa2f-fbf84d4d68e0"
      },
      "execution_count": null,
      "outputs": [
        {
          "output_type": "display_data",
          "data": {
            "text/plain": [
              "ans = 1"
            ]
          },
          "metadata": {}
        },
        {
          "output_type": "display_data",
          "data": {
            "text/plain": [
              "{"
            ]
          },
          "metadata": {}
        },
        {
          "output_type": "display_data",
          "data": {
            "text/plain": [
              "  [1,1] = Analysis scheme: Kalman filter"
            ]
          },
          "metadata": {}
        },
        {
          "output_type": "display_data",
          "data": {
            "text/plain": [
              "  [2,1] = Using correct weighting matrices"
            ]
          },
          "metadata": {}
        },
        {
          "output_type": "display_data",
          "data": {
            "text/plain": [
              "  [3,1] = Time steps between observations: 25"
            ]
          },
          "metadata": {}
        },
        {
          "output_type": "display_data",
          "data": {
            "text/plain": [
              "  [4,1] = Observations have random noise with variance 0.1"
            ]
          },
          "metadata": {}
        },
        {
          "output_type": "display_data",
          "data": {
            "text/plain": [
              "  [5,1] = Noise generated in program and saved to file"
            ]
          },
          "metadata": {}
        },
        {
          "output_type": "display_data",
          "data": {
            "text/plain": [
              "}"
            ]
          },
          "metadata": {}
        }
      ]
    }
  ]
}